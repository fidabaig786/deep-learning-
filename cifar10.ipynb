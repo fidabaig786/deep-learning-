{
 "cells": [
  {
   "cell_type": "markdown",
   "metadata": {},
   "source": [
    "# importing required Libraries"
   ]
  },
  {
   "cell_type": "code",
   "execution_count": 22,
   "metadata": {
    "id": "wlm-8SvuUcrF"
   },
   "outputs": [],
   "source": [
    "import tensorflow as tf\n",
    "from tensorflow import keras\n",
    "import numpy as np\n",
    "import matplotlib.pyplot as plt"
   ]
  },
  {
   "cell_type": "markdown",
   "metadata": {},
   "source": [
    "# Loading cifar10 Dataset"
   ]
  },
  {
   "cell_type": "code",
   "execution_count": 3,
   "metadata": {
    "colab": {
     "base_uri": "https://localhost:8080/"
    },
    "id": "pwxiD0rtUmiH",
    "outputId": "c89fb6cc-56c3-4e3d-994c-394abe8c830b"
   },
   "outputs": [
    {
     "name": "stdout",
     "output_type": "stream",
     "text": [
      "Downloading data from https://www.cs.toronto.edu/~kriz/cifar-10-python.tar.gz\n",
      "170498071/170498071 [==============================] - 13s 0us/step\n"
     ]
    }
   ],
   "source": [
    "(X_train,y_train),(X_test,y_test)=keras.datasets.cifar10.load_data()"
   ]
  },
  {
   "cell_type": "code",
   "execution_count": 4,
   "metadata": {
    "colab": {
     "base_uri": "https://localhost:8080/"
    },
    "id": "brYQt0IWUsgd",
    "outputId": "e91b6953-74e1-4867-805e-a57bfb67cfdf"
   },
   "outputs": [
    {
     "data": {
      "text/plain": [
       "(50000, 32, 32, 3)"
      ]
     },
     "execution_count": 4,
     "metadata": {},
     "output_type": "execute_result"
    }
   ],
   "source": [
    "X_train.shape"
   ]
  },
  {
   "cell_type": "code",
   "execution_count": 5,
   "metadata": {
    "colab": {
     "base_uri": "https://localhost:8080/"
    },
    "id": "2m_BXNziUyBk",
    "outputId": "c0046bb2-7628-4345-d789-6a320d4a28e6"
   },
   "outputs": [
    {
     "data": {
      "text/plain": [
       "(10000, 32, 32, 3)"
      ]
     },
     "execution_count": 5,
     "metadata": {},
     "output_type": "execute_result"
    }
   ],
   "source": [
    "X_test.shape"
   ]
  },
  {
   "cell_type": "code",
   "execution_count": 6,
   "metadata": {
    "colab": {
     "base_uri": "https://localhost:8080/"
    },
    "id": "nXP5k8G-Uzls",
    "outputId": "7bd051a8-556c-47d5-dec9-adf554eac49f"
   },
   "outputs": [
    {
     "data": {
      "text/plain": [
       "array([[[ 59,  62,  63],\n",
       "        [ 43,  46,  45],\n",
       "        [ 50,  48,  43],\n",
       "        ...,\n",
       "        [158, 132, 108],\n",
       "        [152, 125, 102],\n",
       "        [148, 124, 103]],\n",
       "\n",
       "       [[ 16,  20,  20],\n",
       "        [  0,   0,   0],\n",
       "        [ 18,   8,   0],\n",
       "        ...,\n",
       "        [123,  88,  55],\n",
       "        [119,  83,  50],\n",
       "        [122,  87,  57]],\n",
       "\n",
       "       [[ 25,  24,  21],\n",
       "        [ 16,   7,   0],\n",
       "        [ 49,  27,   8],\n",
       "        ...,\n",
       "        [118,  84,  50],\n",
       "        [120,  84,  50],\n",
       "        [109,  73,  42]],\n",
       "\n",
       "       ...,\n",
       "\n",
       "       [[208, 170,  96],\n",
       "        [201, 153,  34],\n",
       "        [198, 161,  26],\n",
       "        ...,\n",
       "        [160, 133,  70],\n",
       "        [ 56,  31,   7],\n",
       "        [ 53,  34,  20]],\n",
       "\n",
       "       [[180, 139,  96],\n",
       "        [173, 123,  42],\n",
       "        [186, 144,  30],\n",
       "        ...,\n",
       "        [184, 148,  94],\n",
       "        [ 97,  62,  34],\n",
       "        [ 83,  53,  34]],\n",
       "\n",
       "       [[177, 144, 116],\n",
       "        [168, 129,  94],\n",
       "        [179, 142,  87],\n",
       "        ...,\n",
       "        [216, 184, 140],\n",
       "        [151, 118,  84],\n",
       "        [123,  92,  72]]], dtype=uint8)"
      ]
     },
     "execution_count": 6,
     "metadata": {},
     "output_type": "execute_result"
    }
   ],
   "source": [
    "X_train[0]"
   ]
  },
  {
   "cell_type": "code",
   "execution_count": 7,
   "metadata": {
    "colab": {
     "base_uri": "https://localhost:8080/",
     "height": 283
    },
    "id": "M7OEFV2CU26f",
    "outputId": "2a35d2fe-4866-49bb-98fd-6a3acfc8287d"
   },
   "outputs": [
    {
     "data": {
      "text/plain": [
       "<matplotlib.image.AxesImage at 0x7fee00f45340>"
      ]
     },
     "execution_count": 7,
     "metadata": {},
     "output_type": "execute_result"
    },
    {
     "data": {
      "image/png": "[encoded data removed]",
      "text/plain": [
       "<Figure size 432x288 with 1 Axes>"
      ]
     },
     "metadata": {
      "needs_background": "light"
     },
     "output_type": "display_data"
    }
   ],
   "source": [
    "plt.imshow(X_train[0])"
   ]
  },
  {
   "cell_type": "code",
   "execution_count": 25,
   "metadata": {
    "id": "4r0j8hZXYzHt"
   },
   "outputs": [],
   "source": [
    "classes=['airplanes', 'cars', 'birds', 'cats', 'deer', 'dogs', 'frogs', 'horses', 'ships', 'trucks']"
   ]
  },
  {
   "cell_type": "markdown",
   "metadata": {},
   "source": [
    "# Normalizaition "
   ]
  },
  {
   "cell_type": "code",
   "execution_count": 8,
   "metadata": {
    "id": "lP65bL_zU7vZ"
   },
   "outputs": [],
   "source": [
    "X_train_scale=X_train/255\n",
    "X_test_scale=X_test/255"
   ]
  },
  {
   "cell_type": "code",
   "execution_count": 9,
   "metadata": {
    "colab": {
     "base_uri": "https://localhost:8080/"
    },
    "id": "H-0BattWU_nL",
    "outputId": "2543671b-d4b2-4d36-c772-801fa2d172da"
   },
   "outputs": [
    {
     "data": {
      "text/plain": [
       "array([[[0.23137255, 0.24313725, 0.24705882],\n",
       "        [0.16862745, 0.18039216, 0.17647059],\n",
       "        [0.19607843, 0.18823529, 0.16862745],\n",
       "        ...,\n",
       "        [0.61960784, 0.51764706, 0.42352941],\n",
       "        [0.59607843, 0.49019608, 0.4       ],\n",
       "        [0.58039216, 0.48627451, 0.40392157]],\n",
       "\n",
       "       [[0.0627451 , 0.07843137, 0.07843137],\n",
       "        [0.        , 0.        , 0.        ],\n",
       "        [0.07058824, 0.03137255, 0.        ],\n",
       "        ...,\n",
       "        [0.48235294, 0.34509804, 0.21568627],\n",
       "        [0.46666667, 0.3254902 , 0.19607843],\n",
       "        [0.47843137, 0.34117647, 0.22352941]],\n",
       "\n",
       "       [[0.09803922, 0.09411765, 0.08235294],\n",
       "        [0.0627451 , 0.02745098, 0.        ],\n",
       "        [0.19215686, 0.10588235, 0.03137255],\n",
       "        ...,\n",
       "        [0.4627451 , 0.32941176, 0.19607843],\n",
       "        [0.47058824, 0.32941176, 0.19607843],\n",
       "        [0.42745098, 0.28627451, 0.16470588]],\n",
       "\n",
       "       ...,\n",
       "\n",
       "       [[0.81568627, 0.66666667, 0.37647059],\n",
       "        [0.78823529, 0.6       , 0.13333333],\n",
       "        [0.77647059, 0.63137255, 0.10196078],\n",
       "        ...,\n",
       "        [0.62745098, 0.52156863, 0.2745098 ],\n",
       "        [0.21960784, 0.12156863, 0.02745098],\n",
       "        [0.20784314, 0.13333333, 0.07843137]],\n",
       "\n",
       "       [[0.70588235, 0.54509804, 0.37647059],\n",
       "        [0.67843137, 0.48235294, 0.16470588],\n",
       "        [0.72941176, 0.56470588, 0.11764706],\n",
       "        ...,\n",
       "        [0.72156863, 0.58039216, 0.36862745],\n",
       "        [0.38039216, 0.24313725, 0.13333333],\n",
       "        [0.3254902 , 0.20784314, 0.13333333]],\n",
       "\n",
       "       [[0.69411765, 0.56470588, 0.45490196],\n",
       "        [0.65882353, 0.50588235, 0.36862745],\n",
       "        [0.70196078, 0.55686275, 0.34117647],\n",
       "        ...,\n",
       "        [0.84705882, 0.72156863, 0.54901961],\n",
       "        [0.59215686, 0.4627451 , 0.32941176],\n",
       "        [0.48235294, 0.36078431, 0.28235294]]])"
      ]
     },
     "execution_count": 9,
     "metadata": {},
     "output_type": "execute_result"
    }
   ],
   "source": [
    "X_train_scale[0]"
   ]
  },
  {
   "cell_type": "code",
   "execution_count": 10,
   "metadata": {
    "colab": {
     "base_uri": "https://localhost:8080/"
    },
    "id": "3WFYkl8GVB7A",
    "outputId": "f24bd702-099f-466f-de82-0c02631f69ed"
   },
   "outputs": [
    {
     "data": {
      "text/plain": [
       "(50000, 32, 32, 3)"
      ]
     },
     "execution_count": 10,
     "metadata": {},
     "output_type": "execute_result"
    }
   ],
   "source": [
    "X_train_scale.shape"
   ]
  },
  {
   "cell_type": "markdown",
   "metadata": {},
   "source": [
    "# One HOT Encoding"
   ]
  },
  {
   "cell_type": "code",
   "execution_count": 11,
   "metadata": {
    "id": "tRm1e2O6VEec"
   },
   "outputs": [],
   "source": [
    "y_train_categorical=keras.utils.to_categorical(\n",
    "    y_train, num_classes=10,dtype='float32'\n",
    ")"
   ]
  },
  {
   "cell_type": "code",
   "execution_count": 12,
   "metadata": {
    "colab": {
     "base_uri": "https://localhost:8080/"
    },
    "id": "rh9RqJY_VGqC",
    "outputId": "02e7a178-5391-4afb-963d-819be7311a54"
   },
   "outputs": [
    {
     "data": {
      "text/plain": [
       "array([0., 0., 0., 0., 0., 0., 1., 0., 0., 0.], dtype=float32)"
      ]
     },
     "execution_count": 12,
     "metadata": {},
     "output_type": "execute_result"
    }
   ],
   "source": [
    "y_train_categorical[0]"
   ]
  },
  {
   "cell_type": "markdown",
   "metadata": {},
   "source": [
    "# One HOT Encoding"
   ]
  },
  {
   "cell_type": "code",
   "execution_count": 13,
   "metadata": {
    "id": "_Qbo2foOVJLs"
   },
   "outputs": [],
   "source": [
    "y_test_categorical=keras.utils.to_categorical(\n",
    "    y_test, num_classes=10,dtype='float32'\n",
    ")"
   ]
  },
  {
   "cell_type": "code",
   "execution_count": 14,
   "metadata": {
    "colab": {
     "base_uri": "https://localhost:8080/"
    },
    "id": "rzf7lvaIVMNo",
    "outputId": "1e5d271d-cd86-4657-85dd-2d838cc4f170"
   },
   "outputs": [
    {
     "data": {
      "text/plain": [
       "array([[0., 0., 0., ..., 0., 0., 0.],\n",
       "       [0., 0., 0., ..., 0., 1., 0.],\n",
       "       [0., 0., 0., ..., 0., 1., 0.],\n",
       "       ...,\n",
       "       [0., 0., 0., ..., 0., 0., 0.],\n",
       "       [0., 1., 0., ..., 0., 0., 0.],\n",
       "       [0., 0., 0., ..., 1., 0., 0.]], dtype=float32)"
      ]
     },
     "execution_count": 14,
     "metadata": {},
     "output_type": "execute_result"
    }
   ],
   "source": [
    "y_test_categorical"
   ]
  },
  {
   "cell_type": "markdown",
   "metadata": {},
   "source": [
    "# Model Building ANN"
   ]
  },
  {
   "cell_type": "code",
   "execution_count": 16,
   "metadata": {
    "colab": {
     "base_uri": "https://localhost:8080/"
    },
    "id": "XF174ibVVOnZ",
    "outputId": "bde921e5-18e1-4f9b-f8c3-054df5a49708"
   },
   "outputs": [
    {
     "name": "stdout",
     "output_type": "stream",
     "text": [
      "Epoch 1/50\n",
      "1563/1563 [==============================] - 7s 4ms/step - loss: 1.8130 - accuracy: 0.3547\n",
      "Epoch 2/50\n",
      "1563/1563 [==============================] - 7s 4ms/step - loss: 1.6239 - accuracy: 0.4283\n",
      "Epoch 3/50\n",
      "1563/1563 [==============================] - 6s 4ms/step - loss: 1.5415 - accuracy: 0.4581\n",
      "Epoch 4/50\n",
      "1563/1563 [==============================] - 7s 4ms/step - loss: 1.4839 - accuracy: 0.4762\n",
      "Epoch 5/50\n",
      "1563/1563 [==============================] - 6s 4ms/step - loss: 1.4328 - accuracy: 0.4969\n",
      "Epoch 6/50\n",
      "1563/1563 [==============================] - 7s 4ms/step - loss: 1.3915 - accuracy: 0.5102\n",
      "Epoch 7/50\n",
      "1563/1563 [==============================] - 6s 4ms/step - loss: 1.3529 - accuracy: 0.5238\n",
      "Epoch 8/50\n",
      "1563/1563 [==============================] - 7s 4ms/step - loss: 1.3175 - accuracy: 0.5381\n",
      "Epoch 9/50\n",
      "1563/1563 [==============================] - 6s 4ms/step - loss: 1.2852 - accuracy: 0.5492\n",
      "Epoch 10/50\n",
      "1563/1563 [==============================] - 7s 4ms/step - loss: 1.2548 - accuracy: 0.5598\n",
      "Epoch 11/50\n",
      "1563/1563 [==============================] - 6s 4ms/step - loss: 1.2243 - accuracy: 0.5710\n",
      "Epoch 12/50\n",
      "1563/1563 [==============================] - 7s 4ms/step - loss: 1.1974 - accuracy: 0.5818\n",
      "Epoch 13/50\n",
      "1563/1563 [==============================] - 6s 4ms/step - loss: 1.1692 - accuracy: 0.5909\n",
      "Epoch 14/50\n",
      "1563/1563 [==============================] - 7s 4ms/step - loss: 1.1432 - accuracy: 0.6029\n",
      "Epoch 15/50\n",
      "1563/1563 [==============================] - 6s 4ms/step - loss: 1.1140 - accuracy: 0.6107\n",
      "Epoch 16/50\n",
      "1563/1563 [==============================] - 7s 4ms/step - loss: 1.0902 - accuracy: 0.6206\n",
      "Epoch 17/50\n",
      "1563/1563 [==============================] - 6s 4ms/step - loss: 1.0637 - accuracy: 0.6295\n",
      "Epoch 18/50\n",
      "1563/1563 [==============================] - 7s 4ms/step - loss: 1.0375 - accuracy: 0.6383\n",
      "Epoch 19/50\n",
      "1563/1563 [==============================] - 6s 4ms/step - loss: 1.0129 - accuracy: 0.6485\n",
      "Epoch 20/50\n",
      "1563/1563 [==============================] - 6s 4ms/step - loss: 0.9891 - accuracy: 0.6555\n",
      "Epoch 21/50\n",
      "1563/1563 [==============================] - 7s 4ms/step - loss: 0.9596 - accuracy: 0.6685\n",
      "Epoch 22/50\n",
      "1563/1563 [==============================] - 6s 4ms/step - loss: 0.9345 - accuracy: 0.6772\n",
      "Epoch 23/50\n",
      "1563/1563 [==============================] - 7s 4ms/step - loss: 0.9132 - accuracy: 0.6828\n",
      "Epoch 24/50\n",
      "1563/1563 [==============================] - 6s 4ms/step - loss: 0.8868 - accuracy: 0.6956\n",
      "Epoch 25/50\n",
      "1563/1563 [==============================] - 7s 4ms/step - loss: 0.8638 - accuracy: 0.7013\n",
      "Epoch 26/50\n",
      "1563/1563 [==============================] - 6s 4ms/step - loss: 0.8367 - accuracy: 0.7118\n",
      "Epoch 27/50\n",
      "1563/1563 [==============================] - 7s 4ms/step - loss: 0.8118 - accuracy: 0.7231\n",
      "Epoch 28/50\n",
      "1563/1563 [==============================] - 6s 4ms/step - loss: 0.7860 - accuracy: 0.7308\n",
      "Epoch 29/50\n",
      "1563/1563 [==============================] - 7s 4ms/step - loss: 0.7620 - accuracy: 0.7401\n",
      "Epoch 30/50\n",
      "1563/1563 [==============================] - 6s 4ms/step - loss: 0.7347 - accuracy: 0.7482\n",
      "Epoch 31/50\n",
      "1563/1563 [==============================] - 7s 4ms/step - loss: 0.7115 - accuracy: 0.7571\n",
      "Epoch 32/50\n",
      "1563/1563 [==============================] - 6s 4ms/step - loss: 0.6894 - accuracy: 0.7637\n",
      "Epoch 33/50\n",
      "1563/1563 [==============================] - 7s 4ms/step - loss: 0.6617 - accuracy: 0.7761\n",
      "Epoch 34/50\n",
      "1563/1563 [==============================] - 6s 4ms/step - loss: 0.6392 - accuracy: 0.7855\n",
      "Epoch 35/50\n",
      "1563/1563 [==============================] - 7s 5ms/step - loss: 0.6160 - accuracy: 0.7928\n",
      "Epoch 36/50\n",
      "1563/1563 [==============================] - 6s 4ms/step - loss: 0.5900 - accuracy: 0.8039\n",
      "Epoch 37/50\n",
      "1563/1563 [==============================] - 7s 4ms/step - loss: 0.5685 - accuracy: 0.8111\n",
      "Epoch 38/50\n",
      "1563/1563 [==============================] - 6s 4ms/step - loss: 0.5404 - accuracy: 0.8212\n",
      "Epoch 39/50\n",
      "1563/1563 [==============================] - 6s 4ms/step - loss: 0.5242 - accuracy: 0.8277\n",
      "Epoch 40/50\n",
      "1563/1563 [==============================] - 6s 4ms/step - loss: 0.4992 - accuracy: 0.8365\n",
      "Epoch 41/50\n",
      "1563/1563 [==============================] - 6s 4ms/step - loss: 0.4788 - accuracy: 0.8423\n",
      "Epoch 42/50\n",
      "1563/1563 [==============================] - 7s 4ms/step - loss: 0.4542 - accuracy: 0.8525\n",
      "Epoch 43/50\n",
      "1563/1563 [==============================] - 6s 4ms/step - loss: 0.4327 - accuracy: 0.8605\n",
      "Epoch 44/50\n",
      "1563/1563 [==============================] - 7s 4ms/step - loss: 0.4164 - accuracy: 0.8660\n",
      "Epoch 45/50\n",
      "1563/1563 [==============================] - 6s 4ms/step - loss: 0.3933 - accuracy: 0.8743\n",
      "Epoch 46/50\n",
      "1563/1563 [==============================] - 7s 4ms/step - loss: 0.3746 - accuracy: 0.8815\n",
      "Epoch 47/50\n",
      "1563/1563 [==============================] - 6s 4ms/step - loss: 0.3531 - accuracy: 0.8911\n",
      "Epoch 48/50\n",
      "1563/1563 [==============================] - 7s 4ms/step - loss: 0.3345 - accuracy: 0.8993\n",
      "Epoch 49/50\n",
      "1563/1563 [==============================] - 6s 4ms/step - loss: 0.3149 - accuracy: 0.9058\n",
      "Epoch 50/50\n",
      "1563/1563 [==============================] - 7s 4ms/step - loss: 0.3032 - accuracy: 0.9091\n"
     ]
    },
    {
     "data": {
      "text/plain": [
       "<keras.callbacks.History at 0x7fed1854d9d0>"
      ]
     },
     "execution_count": 16,
     "metadata": {},
     "output_type": "execute_result"
    }
   ],
   "source": [
    "model=keras.Sequential([\n",
    "    keras.layers.Flatten(input_shape=(32,32,3)),\n",
    "    keras.layers.Dense(2500,activation='relu'),\n",
    "    keras.layers.Dense(1200,activation='relu'),\n",
    "    keras.layers.Dense(10,activation='sigmoid')\n",
    "])\n",
    "model.compile(\n",
    "    optimizer='SGD',\n",
    "    loss='categorical_crossentropy',\n",
    "    metrics=['accuracy']\n",
    ")\n",
    "model.fit(X_train_scale,y_train_categorical,epochs=50)"
   ]
  },
  {
   "cell_type": "markdown",
   "metadata": {},
   "source": [
    "# Evaluating on Test data"
   ]
  },
  {
   "cell_type": "code",
   "execution_count": 18,
   "metadata": {
    "colab": {
     "base_uri": "https://localhost:8080/"
    },
    "id": "NKtMVZ8PVUXC",
    "outputId": "722cce35-23d5-4ae7-dd02-2d89d71673b4"
   },
   "outputs": [
    {
     "name": "stdout",
     "output_type": "stream",
     "text": [
      "313/313 [==============================] - 1s 3ms/step - loss: 1.7255 - accuracy: 0.5420\n"
     ]
    },
    {
     "data": {
      "text/plain": [
       "[1.7255302667617798, 0.5419999957084656]"
      ]
     },
     "execution_count": 18,
     "metadata": {},
     "output_type": "execute_result"
    }
   ],
   "source": [
    "model.evaluate(X_test_scale,y_test_categorical)"
   ]
  },
  {
   "cell_type": "markdown",
   "metadata": {},
   "source": [
    "# Predictions "
   ]
  },
  {
   "cell_type": "code",
   "execution_count": 19,
   "metadata": {
    "colab": {
     "base_uri": "https://localhost:8080/"
    },
    "id": "Drxp5z9iXDq9",
    "outputId": "88dfa44a-a50f-4d91-9312-c9571700e5f7"
   },
   "outputs": [
    {
     "name": "stdout",
     "output_type": "stream",
     "text": [
      "313/313 [==============================] - 1s 2ms/step\n"
     ]
    }
   ],
   "source": [
    "y_predict=model.predict(X_test_scale)"
   ]
  },
  {
   "cell_type": "code",
   "execution_count": 27,
   "metadata": {
    "colab": {
     "base_uri": "https://localhost:8080/",
     "height": 37
    },
    "id": "64_o-Ex0X7fe",
    "outputId": "d8353336-4136-4e6f-bc8c-0db28e49cfa7"
   },
   "outputs": [
    {
     "data": {
      "application/vnd.google.colaboratory.intrinsic+json": {
       "type": "string"
      },
      "text/plain": [
       "'cats'"
      ]
     },
     "execution_count": 27,
     "metadata": {},
     "output_type": "execute_result"
    }
   ],
   "source": [
    "classes[np.argmax(y_predict[0])]"
   ]
  },
  {
   "cell_type": "code",
   "execution_count": 26,
   "metadata": {
    "colab": {
     "base_uri": "https://localhost:8080/",
     "height": 37
    },
    "id": "EE-46jFUX-OW",
    "outputId": "72380c7e-0631-42ee-8d0b-bf1a5b671dca"
   },
   "outputs": [
    {
     "data": {
      "application/vnd.google.colaboratory.intrinsic+json": {
       "type": "string"
      },
      "text/plain": [
       "'cats'"
      ]
     },
     "execution_count": 26,
     "metadata": {},
     "output_type": "execute_result"
    }
   ],
   "source": [
    "classes[3]"
   ]
  },
  {
   "cell_type": "code",
   "execution_count": 28,
   "metadata": {
    "colab": {
     "base_uri": "https://localhost:8080/"
    },
    "id": "ZQswwx8wYoRD",
    "outputId": "43bfb4c7-0424-49ad-dc19-173c9b4d6a57"
   },
   "outputs": [
    {
     "data": {
      "text/plain": [
       "array([9.9407864e-01, 9.4207788e-01, 8.0713265e-02, 8.3109783e-03,\n",
       "       1.7118542e-02, 2.8879252e-01, 8.2513761e-05, 9.4432658e-01,\n",
       "       9.9814844e-01, 9.9871874e-01], dtype=float32)"
      ]
     },
     "execution_count": 28,
     "metadata": {},
     "output_type": "execute_result"
    }
   ],
   "source": [
    "y_predict[2]"
   ]
  },
  {
   "cell_type": "code",
   "execution_count": 29,
   "metadata": {
    "colab": {
     "base_uri": "https://localhost:8080/"
    },
    "id": "6wIJvJVJZDdK",
    "outputId": "052b498a-2993-4f36-a01a-f5a387e6ed99"
   },
   "outputs": [
    {
     "data": {
      "text/plain": [
       "9"
      ]
     },
     "execution_count": 29,
     "metadata": {},
     "output_type": "execute_result"
    }
   ],
   "source": [
    "np.argmax(y_predict[2])"
   ]
  },
  {
   "cell_type": "code",
   "execution_count": 32,
   "metadata": {
    "colab": {
     "base_uri": "https://localhost:8080/",
     "height": 37
    },
    "id": "rYwiX72vZJm5",
    "outputId": "43c2d5b3-50b7-4412-d2c4-134e45aba23c"
   },
   "outputs": [
    {
     "data": {
      "application/vnd.google.colaboratory.intrinsic+json": {
       "type": "string"
      },
      "text/plain": [
       "'trucks'"
      ]
     },
     "execution_count": 32,
     "metadata": {},
     "output_type": "execute_result"
    }
   ],
   "source": [
    "classes[np.argmax(y_predict[9])]"
   ]
  },
  {
   "cell_type": "code",
   "execution_count": 33,
   "metadata": {
    "colab": {
     "base_uri": "https://localhost:8080/",
     "height": 37
    },
    "id": "i8QakmnrZPsp",
    "outputId": "a62c3e86-de61-427c-d477-10488647e4bc"
   },
   "outputs": [
    {
     "data": {
      "application/vnd.google.colaboratory.intrinsic+json": {
       "type": "string"
      },
      "text/plain": [
       "'trucks'"
      ]
     },
     "execution_count": 33,
     "metadata": {},
     "output_type": "execute_result"
    }
   ],
   "source": [
    "classes[9]"
   ]
  },
  {
   "cell_type": "code",
   "execution_count": null,
   "metadata": {
    "id": "E5u36cSmZaGi"
   },
   "outputs": [],
   "source": []
  },
  {
   "cell_type": "code",
   "execution_count": null,
   "metadata": {
    "id": "vTLopF45ZeQ4"
   },
   "outputs": [],
   "source": []
  }
 ],
 "metadata": {
  "accelerator": "GPU",
  "colab": {
   "provenance": []
  },
  "gpuClass": "standard",
  "kernelspec": {
   "display_name": "Python 3 (ipykernel)",
   "language": "python",
   "name": "python3"
  },
  "language_info": {
   "codemirror_mode": {
    "name": "ipython",
    "version": 3
   },
   "file_extension": ".py",
   "mimetype": "text/x-python",
   "name": "python",
   "nbconvert_exporter": "python",
   "pygments_lexer": "ipython3",
   "version": "3.9.12"
  }
 },
 "nbformat": 4,
 "nbformat_minor": 1
}
