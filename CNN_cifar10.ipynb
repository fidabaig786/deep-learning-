{
 "cells": [
  {
   "cell_type": "code",
   "execution_count": null,
   "metadata": {
    "id": "NoPtDOgQWLWh",
    "scrolled": true
   },
   "outputs": [],
   "source": [
    "import tensorflow as tf\n",
    "import numpy as np\n",
    "import matplotlib.pyplot as plt\n",
    "from keras.layers import Dense, Flatten, Activation\n",
    "from keras.layers import Conv2D, MaxPooling2D\n",
    "from keras.layers import Dropout, BatchNormalization\n",
    "from keras.optimizers import SGD\n",
    "from keras.datasets import cifar10\n",
    "from keras.utils.np_utils import to_categorical\n",
    "from keras.models import Model\n",
    "from keras.models import Sequential\n",
    "from keras.callbacks import EarlyStopping\n",
    "import keras"
   ]
  },
  {
   "cell_type": "code",
   "execution_count": null,
   "metadata": {
    "colab": {
     "base_uri": "https://localhost:8080/"
    },
    "id": "saNhJmTzWLWi",
    "outputId": "604bdb1f-a367-46f4-caa8-009e03b7da8a"
   },
   "outputs": [
    {
     "name": "stdout",
     "output_type": "stream",
     "text": [
      "Downloading data from https://www.cs.toronto.edu/~kriz/cifar-10-python.tar.gz\n",
      "170498071/170498071 [==============================] - 14s 0us/step\n"
     ]
    }
   ],
   "source": [
    "(X_train, y_train) , (X_test, y_test) = keras.datasets.cifar10.load_data()"
   ]
  },
  {
   "cell_type": "code",
   "execution_count": null,
   "metadata": {
    "colab": {
     "base_uri": "https://localhost:8080/"
    },
    "id": "_St6VI5SW7rj",
    "outputId": "35d15acf-819f-44ee-98f3-4848f81dd541"
   },
   "outputs": [
    {
     "data": {
      "text/plain": [
       "(32, 32, 3)"
      ]
     },
     "execution_count": 6,
     "metadata": {},
     "output_type": "execute_result"
    }
   ],
   "source": [
    "X_train[1].shape"
   ]
  },
  {
   "cell_type": "code",
   "execution_count": null,
   "metadata": {
    "colab": {
     "base_uri": "https://localhost:8080/"
    },
    "id": "HiYhR8HRW_Rc",
    "outputId": "9f3caa51-5a8f-4822-d557-1f4a73fc683e"
   },
   "outputs": [
    {
     "data": {
      "text/plain": [
       "(1,)"
      ]
     },
     "execution_count": 7,
     "metadata": {},
     "output_type": "execute_result"
    }
   ],
   "source": [
    "y_train[1].shape"
   ]
  },
  {
   "cell_type": "markdown",
   "metadata": {
    "id": "6q7KAhFCWLWj"
   },
   "source": [
    "We now create a list of labels corresponding to the 10 categories.  It will be used to convert the 0-9 digits in the target arrays to string labels. The categories are labeled as follows:\n",
    "\n",
    "  0. airplane\n",
    "  1. automobile\n",
    "  2. bird\n",
    "  3. cat\n",
    "  4. deer\n",
    "  5. dog\n",
    "  6. frog\n",
    "  7. horse\n",
    "  8. ship\n",
    "  9. truck\n"
   ]
  },
  {
   "cell_type": "code",
   "execution_count": null,
   "metadata": {
    "id": "0xDQ94OJW6oU"
   },
   "outputs": [],
   "source": [
    "List=[\"Airplane\",\"automobile\",\"bird\",\"cat\",\"deer\",\"dog\",\"frog\",\"horse\",\"sheep\",\"truck\"]"
   ]
  },
  {
   "cell_type": "code",
   "execution_count": null,
   "metadata": {
    "id": "q4zkJxNvWLWj"
   },
   "outputs": [],
   "source": []
  },
  {
   "cell_type": "markdown",
   "metadata": {
    "id": "2gLrKBCsWLWj"
   },
   "source": [
    "**3) Normalize the image data from [0,255] to be [0,1].  Normalizing improves model training (to test this, you can comment out the normalization later).**"
   ]
  },
  {
   "cell_type": "code",
   "execution_count": null,
   "metadata": {
    "id": "J-IyyX3ZWLWj"
   },
   "outputs": [],
   "source": [
    "X_train = X_train / 255\n",
    "X_test = X_test / 255"
   ]
  },
  {
   "cell_type": "markdown",
   "metadata": {
    "id": "N7iOZn2yWLWk"
   },
   "source": [
    "**4) Convert the target arrays to one-hot encodings.  Hint: checkout the [`keras.utils.np_utils.to_categorical()`](https://www.tensorflow.org/api_docs/python/tf/keras/utils/to_categorical)**"
   ]
  },
  {
   "cell_type": "code",
   "execution_count": null,
   "metadata": {
    "id": "F2kM3L3yWLWk"
   },
   "outputs": [],
   "source": [
    "import keras as k\n",
    "y_train = k.utils.to_categorical(y_train)\n",
    "y_test = k.utils.to_categorical(y_test)"
   ]
  },
  {
   "cell_type": "markdown",
   "metadata": {
    "id": "TFd_Y0xLWLWk"
   },
   "source": [
    "**5) Visualize some images in each category using the `imshow()` function in `matplotlib.pyplot`.  Can you recreate the figure below?  Hint: the below figure was created using the first 8 images belonging to each category in the training data.**"
   ]
  },
  {
   "cell_type": "markdown",
   "metadata": {
    "id": "jFXWiMN7WLWk"
   },
   "source": [
    "![Dataset.png](attachment:Dataset.png)"
   ]
  },
  {
   "cell_type": "code",
   "execution_count": null,
   "metadata": {
    "colab": {
     "base_uri": "https://localhost:8080/",
     "height": 293
    },
    "id": "OzSwjr_YWLWk",
    "outputId": "8c531778-9628-47b0-9f92-b1c3c232812c"
   },
   "outputs": [
    {
     "data": {
      "text/plain": [
       "<matplotlib.image.AxesImage at 0x7f68d96fdf40>"
      ]
     },
     "execution_count": 10,
     "metadata": {},
     "output_type": "execute_result"
    },
    {
     "data": {
      "image/png": "[encoded data removed]",
      "text/plain": [
       "<Figure size 288x288 with 1 Axes>"
      ]
     },
     "metadata": {
      "needs_background": "light"
     },
     "output_type": "display_data"
    }
   ],
   "source": [
    "plt.matshow(X_train[1])\n"
   ]
  },
  {
   "cell_type": "code",
   "execution_count": null,
   "metadata": {
    "colab": {
     "base_uri": "https://localhost:8080/",
     "height": 293
    },
    "id": "X6CRMw1RXY39",
    "outputId": "b0d3442d-c5ef-47ec-fa88-58714974ae2d"
   },
   "outputs": [
    {
     "data": {
      "text/plain": [
       "<matplotlib.image.AxesImage at 0x7f68d91de130>"
      ]
     },
     "execution_count": 11,
     "metadata": {},
     "output_type": "execute_result"
    },
    {
     "data": {
      "image/png": "[encoded data removed]",
      "text/plain": [
       "<Figure size 288x288 with 1 Axes>"
      ]
     },
     "metadata": {
      "needs_background": "light"
     },
     "output_type": "display_data"
    }
   ],
   "source": [
    "plt.matshow(X_train[2])"
   ]
  },
  {
   "cell_type": "markdown",
   "metadata": {
    "id": "qJDCHc4EWLWl"
   },
   "source": [
    "<a id='first_model'></a>\n",
    "\n",
    "# 2 - First naive model\n",
    "\n",
    "In order to better understand the importance of CNNs, it is instructive to first see how well a naive dense network performs on the dataset.\n",
    "\n",
    "**6) Create a sequential model with 4 `Dense` hidden layers of 2048, 1024, 512, and 256 nodes each, with ReLU activation, and a final output layer of 10 nodes. Compile the model with a `categorical_crossentropy` loss, using the SGD optimizer, and the `accuracy` metric. \n",
    "Note that you will need to use the `Flatten` layer first in order to convert the 3D (x, y, rgb) image data into 1D.**"
   ]
  },
  {
   "cell_type": "code",
   "execution_count": null,
   "metadata": {
    "colab": {
     "base_uri": "https://localhost:8080/"
    },
    "id": "48bwK-d3WLWl",
    "outputId": "3e32ab9c-266b-46f8-ede2-cae00af55b98"
   },
   "outputs": [
    {
     "data": {
      "text/plain": [
       "(10000, 3072)"
      ]
     },
     "execution_count": 12,
     "metadata": {},
     "output_type": "execute_result"
    }
   ],
   "source": [
    "# Flattening the dataset inputs\n",
    "X_train_flattened = X_train.reshape(len(X_train), 32*32*3)\n",
    "X_test_flattened = X_test.reshape(len(X_test), 32*32*3)\n",
    "X_test_flattened.shape"
   ]
  },
  {
   "cell_type": "code",
   "execution_count": null,
   "metadata": {
    "colab": {
     "base_uri": "https://localhost:8080/"
    },
    "id": "DlhyUiE-XjJk",
    "outputId": "7ef6750e-2921-4de9-fd54-17dc38dec204"
   },
   "outputs": [
    {
     "name": "stdout",
     "output_type": "stream",
     "text": [
      "Epoch 1/10\n",
      "1407/1407 [==============================] - 6s 4ms/step - loss: 1.8483 - accuracy: 0.3365 - val_loss: 1.7821 - val_accuracy: 0.3546\n",
      "Epoch 2/10\n",
      "1407/1407 [==============================] - 5s 4ms/step - loss: 1.6463 - accuracy: 0.4129 - val_loss: 1.9162 - val_accuracy: 0.3204\n"
     ]
    },
    {
     "data": {
      "text/plain": [
       "<keras.callbacks.History at 0x7f685e6f0250>"
      ]
     },
     "execution_count": 19,
     "metadata": {},
     "output_type": "execute_result"
    }
   ],
   "source": [
    "from keras.backend import batch_normalization\n",
    "model=keras.models.Sequential()\n",
    "model.add(Dense(2048, input_shape=(3072,), activation='relu'))\n",
    "keras.layers.BatchNormalization(),\n",
    "model.add(Dense(1024, activation='relu'))\n",
    "keras.layers.BatchNormalization(),\n",
    "model.add(Dense(512, activation='relu'))\n",
    "keras.layers.BatchNormalization(),\n",
    "model.add(Dense(256, activation='relu'))\n",
    "keras.layers.BatchNormalization(),\n",
    "model.add(Dense(10, activation='softmax'))\n",
    "\n",
    "model.compile(optimizer='SGD',\n",
    "              loss='sparse_categorical_crossentropy',\n",
    "              metrics=['accuracy'])\n"
   ]
  },
  {
   "cell_type": "markdown",
   "metadata": {
    "id": "jcQbyP47WLWl"
   },
   "source": [
    "**7) Compute by hand the total number of trainable parameters (weights and biases) in the model.**"
   ]
  },
  {
   "cell_type": "markdown",
   "metadata": {
    "id": "ZPwP83TQWLWl"
   },
   "source": [
    "*9,050,378*"
   ]
  },
  {
   "cell_type": "markdown",
   "metadata": {
    "id": "5lT4-q6dWLWl"
   },
   "source": [
    "**8) Use the `summary()` function on model to get a text summary of the model.  Did you compute the number of parameters correctly?**"
   ]
  },
  {
   "cell_type": "code",
   "execution_count": null,
   "metadata": {
    "colab": {
     "base_uri": "https://localhost:8080/"
    },
    "id": "0Wav8WypWLWm",
    "outputId": "2f8a6d42-ab26-41f2-8f5a-1b23aed84797"
   },
   "outputs": [
    {
     "name": "stdout",
     "output_type": "stream",
     "text": [
      "Model: \"sequential\"\n",
      "_________________________________________________________________\n",
      " Layer (type)                Output Shape              Param #   \n",
      "=================================================================\n",
      " dense (Dense)               (None, 2048)              6293504   \n",
      "                                                                 \n",
      " dense_1 (Dense)             (None, 1024)              2098176   \n",
      "                                                                 \n",
      " dense_2 (Dense)             (None, 512)               524800    \n",
      "                                                                 \n",
      " dense_3 (Dense)             (None, 256)               131328    \n",
      "                                                                 \n",
      " dense_4 (Dense)             (None, 10)                2570      \n",
      "                                                                 \n",
      "=================================================================\n",
      "Total params: 9,050,378\n",
      "Trainable params: 9,050,378\n",
      "Non-trainable params: 0\n",
      "_________________________________________________________________\n"
     ]
    }
   ],
   "source": [
    "model.summary()"
   ]
  },
  {
   "cell_type": "markdown",
   "metadata": {
    "id": "uozZLSoZWLWm"
   },
   "source": [
    "**9) Train the model:**\n",
    "  - Start with a small batch size of 32 and train for 10 epochs\n",
    "  - Use early stopping on the validation accuracy with a patience of 2 (use 10% of your training set as the validation set)\n",
    "  \n",
    "**How does the model perform?**"
   ]
  },
  {
   "cell_type": "code",
   "execution_count": null,
   "metadata": {
    "colab": {
     "base_uri": "https://localhost:8080/"
    },
    "id": "2WKc2jPTWLWm",
    "outputId": "d936450a-06d3-4ff4-b8a3-b94c13066a03"
   },
   "outputs": [
    {
     "name": "stdout",
     "output_type": "stream",
     "text": [
      "Epoch 1/10\n",
      "1563/1563 [==============================] - 5s 3ms/step - loss: 1.2393 - accuracy: 0.5575\n",
      "Epoch 2/10\n",
      "1563/1563 [==============================] - 5s 3ms/step - loss: 1.1993 - accuracy: 0.5745\n",
      "Epoch 3/10\n",
      "1563/1563 [==============================] - 5s 3ms/step - loss: 1.1634 - accuracy: 0.5874\n",
      "Epoch 4/10\n",
      "1563/1563 [==============================] - 7s 4ms/step - loss: 1.1295 - accuracy: 0.6000\n",
      "Epoch 5/10\n",
      "1563/1563 [==============================] - 5s 3ms/step - loss: 1.0927 - accuracy: 0.6120\n",
      "Epoch 6/10\n",
      "1563/1563 [==============================] - 5s 3ms/step - loss: 1.0585 - accuracy: 0.6238\n",
      "Epoch 7/10\n",
      "1563/1563 [==============================] - 5s 3ms/step - loss: 1.0223 - accuracy: 0.6363\n",
      "Epoch 8/10\n",
      "1563/1563 [==============================] - 5s 3ms/step - loss: 0.9867 - accuracy: 0.6485\n",
      "Epoch 9/10\n",
      "1563/1563 [==============================] - 5s 3ms/step - loss: 0.9552 - accuracy: 0.6600\n",
      "Epoch 10/10\n",
      "1563/1563 [==============================] - 6s 4ms/step - loss: 0.9219 - accuracy: 0.6730\n"
     ]
    },
    {
     "data": {
      "text/plain": [
       "<keras.callbacks.History at 0x7f685e59e6a0>"
      ]
     },
     "execution_count": 21,
     "metadata": {},
     "output_type": "execute_result"
    }
   ],
   "source": [
    "model.fit(X_train_flattened, y_train, epochs=10,batch_size=32 )"
   ]
  },
  {
   "cell_type": "code",
   "execution_count": null,
   "metadata": {
    "colab": {
     "base_uri": "https://localhost:8080/"
    },
    "id": "_2Wqnb6KZ_yj",
    "outputId": "7752c448-8c8d-4851-8b43-50542af9b26b"
   },
   "outputs": [
    {
     "name": "stdout",
     "output_type": "stream",
     "text": [
      "Epoch 1/10\n",
      "1407/1407 [==============================] - 5s 4ms/step - loss: 0.8844 - accuracy: 0.6867 - val_loss: 1.2339 - val_accuracy: 0.5774\n",
      "Epoch 2/10\n",
      "1407/1407 [==============================] - 6s 4ms/step - loss: 0.8465 - accuracy: 0.6995 - val_loss: 1.1726 - val_accuracy: 0.5814\n"
     ]
    },
    {
     "data": {
      "text/plain": [
       "<keras.callbacks.History at 0x7f685e5b63a0>"
      ]
     },
     "execution_count": 22,
     "metadata": {},
     "output_type": "execute_result"
    }
   ],
   "source": [
    "model.fit(X_train_flattened, y_train,epochs=10,batch_size=32, validation_split=0.1,callbacks=EarlyStopping(monitor='val_loss'))"
   ]
  },
  {
   "cell_type": "markdown",
   "metadata": {
    "id": "UUr0XmctWLWm"
   },
   "source": [
    "**10) Try changing the batch size to see if there is any improvement.**"
   ]
  },
  {
   "cell_type": "code",
   "execution_count": null,
   "metadata": {
    "colab": {
     "base_uri": "https://localhost:8080/"
    },
    "id": "pOnHB3ZiWLWm",
    "outputId": "1057f310-8834-4dcb-a1f5-7aafffd0cf4d"
   },
   "outputs": [
    {
     "name": "stdout",
     "output_type": "stream",
     "text": [
      "Epoch 1/10\n",
      "1000/1000 [==============================] - 4s 4ms/step - loss: 1.5394 - accuracy: 0.4526\n",
      "Epoch 2/10\n",
      "1000/1000 [==============================] - 3s 3ms/step - loss: 1.4854 - accuracy: 0.4700\n",
      "Epoch 3/10\n",
      "1000/1000 [==============================] - 3s 3ms/step - loss: 1.4374 - accuracy: 0.4889\n",
      "Epoch 4/10\n",
      "1000/1000 [==============================] - 3s 3ms/step - loss: 1.4012 - accuracy: 0.5035\n",
      "Epoch 5/10\n",
      "1000/1000 [==============================] - 4s 4ms/step - loss: 1.3629 - accuracy: 0.5184\n",
      "Epoch 6/10\n",
      "1000/1000 [==============================] - 3s 3ms/step - loss: 1.3275 - accuracy: 0.5279\n",
      "Epoch 7/10\n",
      "1000/1000 [==============================] - 3s 3ms/step - loss: 1.2933 - accuracy: 0.5396\n",
      "Epoch 8/10\n",
      "1000/1000 [==============================] - 4s 4ms/step - loss: 1.2637 - accuracy: 0.5515\n",
      "Epoch 9/10\n",
      "1000/1000 [==============================] - 4s 4ms/step - loss: 1.2341 - accuracy: 0.5634\n",
      "Epoch 10/10\n",
      "1000/1000 [==============================] - 4s 4ms/step - loss: 1.2074 - accuracy: 0.5752\n"
     ]
    },
    {
     "data": {
      "text/plain": [
       "<keras.callbacks.History at 0x7f685e67e520>"
      ]
     },
     "execution_count": 20,
     "metadata": {},
     "output_type": "execute_result"
    }
   ],
   "source": [
    "model.fit(X_train_flattened, y_train, epochs=10,batch_size=50 )"
   ]
  },
  {
   "cell_type": "markdown",
   "metadata": {
    "id": "77fAW3uIWLWn"
   },
   "source": [
    "**11) Try adding batch normalization after each hidden layer.  Any better?**"
   ]
  },
  {
   "cell_type": "code",
   "execution_count": null,
   "metadata": {
    "id": "iX2hI-LtWLWn"
   },
   "outputs": [],
   "source": [
    "# I have already added Batch normalization layer, adding batch normalization layer increases the accuracy of model"
   ]
  },
  {
   "cell_type": "markdown",
   "metadata": {
    "id": "z8Z32lwnWLWn"
   },
   "source": [
    "<a id='cnn'></a>\n",
    "\n",
    "# 3 - Convolutional Neural Network\n",
    " \n",
    "\n",
    "Convolutional neural networks allow us to do drastically better on this dataset (and many image classification problems in general). In this task, you will build a convolutional network and see how it performs during training."
   ]
  },
  {
   "cell_type": "markdown",
   "metadata": {
    "id": "e7X_8aSCWLWn"
   },
   "source": [
    "**12) Create a new model with the following layers**\n",
    "  - 3x3 2D convolution with zero padding (same), 32 filters\n",
    "  - ReLU activation\n",
    "  - 3,3 2D convolution, no padding, 32 filters\n",
    "  - ReLU activation\n",
    "  - Max pooling with size (2,2)\n",
    "  - 3x3 2D convolution, no padding, 64 filters\n",
    "  - ReLU activation\n",
    "  - 3x3 2D convolution, no padding, 64 filters\n",
    "  - ReLU activation\n",
    "  - Max pooling with size (2,2)\n",
    "  - Flatten\n",
    "  - Dense layer with 512 nodes, ReLU activation\n",
    "  - Softmax output layer with 10 nodes\n",
    "  \n",
    "**Compile the network with same optimizer and metrics as the dense network.**  "
   ]
  },
  {
   "cell_type": "code",
   "execution_count": null,
   "metadata": {
    "id": "P_3EG4QyWLWn"
   },
   "outputs": [],
   "source": [
    "cnn = keras.models.Sequential([\n",
    "    keras.layers.Conv2D(filters=32, kernel_size=(3, 3), activation='relu', input_shape=(32, 32, 3)),\n",
    "    \n",
    "    keras.layers.Conv2D(filters=32, kernel_size=(3, 3), activation='relu'),\n",
    "    keras.layers.Dropout(0.25),\n",
    "    keras.layers.BatchNormalization(),\n",
    "    keras.layers.MaxPooling2D((2, 2)),\n",
    "    \n",
    "\n",
    "    keras.layers.Conv2D(filters=64, kernel_size=(3, 3), activation='relu'),\n",
    "\n",
    "    keras.layers.Conv2D(filters=64, kernel_size=(3, 3), activation='relu'),\n",
    "    keras.layers.Dropout(0.25),\n",
    "    keras.layers.BatchNormalization(),\n",
    "    keras.layers.MaxPooling2D((2, 2)),\n",
    "    \n",
    "    \n",
    "    keras.layers.Flatten(),\n",
    "    keras.layers.Dense(512, activation='relu'),\n",
    "    keras.layers.Dropout(0.25),\n",
    "    keras.layers.BatchNormalization(),\n",
    "    keras.layers.Dense(10, activation='softmax')\n",
    "])\n",
    "cnn.compile(optimizer='adam',\n",
    "              loss='sparse_categorical_crossentropy',\n",
    "              metrics=['accuracy'])"
   ]
  },
  {
   "cell_type": "markdown",
   "metadata": {
    "id": "6zeix4tUWLWo"
   },
   "source": [
    "**13) Compute by hand the number of trainable parameters in this network.  Are there more or less than the more simple dense network?  Why?  Confirm with `summary()`.**"
   ]
  },
  {
   "cell_type": "code",
   "execution_count": null,
   "metadata": {
    "colab": {
     "base_uri": "https://localhost:8080/"
    },
    "id": "CijMq8b_WLWo",
    "outputId": "793e300c-8ea5-4865-c29f-e354130179bb"
   },
   "outputs": [
    {
     "name": "stdout",
     "output_type": "stream",
     "text": [
      "Model: \"sequential_7\"\n",
      "_________________________________________________________________\n",
      " Layer (type)                Output Shape              Param #   \n",
      "=================================================================\n",
      " conv2d_4 (Conv2D)           (None, 30, 30, 32)        896       \n",
      "                                                                 \n",
      " conv2d_5 (Conv2D)           (None, 28, 28, 32)        9248      \n",
      "                                                                 \n",
      " dropout_3 (Dropout)         (None, 28, 28, 32)        0         \n",
      "                                                                 \n",
      " batch_normalization_27 (Bat  (None, 28, 28, 32)       128       \n",
      " chNormalization)                                                \n",
      "                                                                 \n",
      " max_pooling2d_2 (MaxPooling  (None, 14, 14, 32)       0         \n",
      " 2D)                                                             \n",
      "                                                                 \n",
      " conv2d_6 (Conv2D)           (None, 12, 12, 64)        18496     \n",
      "                                                                 \n",
      " conv2d_7 (Conv2D)           (None, 10, 10, 64)        36928     \n",
      "                                                                 \n",
      " dropout_4 (Dropout)         (None, 10, 10, 64)        0         \n",
      "                                                                 \n",
      " batch_normalization_28 (Bat  (None, 10, 10, 64)       256       \n",
      " chNormalization)                                                \n",
      "                                                                 \n",
      " max_pooling2d_3 (MaxPooling  (None, 5, 5, 64)         0         \n",
      " 2D)                                                             \n",
      "                                                                 \n",
      " flatten_1 (Flatten)         (None, 1600)              0         \n",
      "                                                                 \n",
      " dense_32 (Dense)            (None, 512)               819712    \n",
      "                                                                 \n",
      " dropout_5 (Dropout)         (None, 512)               0         \n",
      "                                                                 \n",
      " batch_normalization_29 (Bat  (None, 512)              2048      \n",
      " chNormalization)                                                \n",
      "                                                                 \n",
      " dense_33 (Dense)            (None, 10)                5130      \n",
      "                                                                 \n",
      "=================================================================\n",
      "Total params: 892,842\n",
      "Trainable params: 891,626\n",
      "Non-trainable params: 1,216\n",
      "_________________________________________________________________\n"
     ]
    }
   ],
   "source": [
    "cnn.summary()"
   ]
  },
  {
   "cell_type": "code",
   "execution_count": null,
   "metadata": {
    "id": "-qXQjszoa857"
   },
   "outputs": [],
   "source": [
    "# ANN has greater number of trainable parameters as compare to CNN, because we have added layer in ANN that's why layers have increased the number of trainable parameters in simple neural network.(ANN)"
   ]
  },
  {
   "cell_type": "markdown",
   "metadata": {
    "id": "lCc0L5a-WLWo"
   },
   "source": [
    "**14) Use the same training procedure as before for 10 epochs and batch size of 32. How does the validation accuracy change with each epoch?**"
   ]
  },
  {
   "cell_type": "code",
   "execution_count": null,
   "metadata": {
    "colab": {
     "base_uri": "https://localhost:8080/"
    },
    "id": "l2LguFeoWLWo",
    "outputId": "19f63d14-f927-4be2-e166-f1c6d6f23750"
   },
   "outputs": [
    {
     "name": "stdout",
     "output_type": "stream",
     "text": [
      "Epoch 1/10\n",
      "1563/1563 [==============================] - 16s 5ms/step - loss: 1.5037 - accuracy: 0.4774\n",
      "Epoch 2/10\n",
      "1563/1563 [==============================] - 8s 5ms/step - loss: 1.0744 - accuracy: 0.6226\n",
      "Epoch 3/10\n",
      "1563/1563 [==============================] - 8s 5ms/step - loss: 0.8987 - accuracy: 0.6864\n",
      "Epoch 4/10\n",
      "1563/1563 [==============================] - 9s 6ms/step - loss: 0.8091 - accuracy: 0.7158\n",
      "Epoch 5/10\n",
      "1563/1563 [==============================] - 9s 6ms/step - loss: 0.7392 - accuracy: 0.7428\n",
      "Epoch 6/10\n",
      "1563/1563 [==============================] - 8s 5ms/step - loss: 0.6704 - accuracy: 0.7627\n",
      "Epoch 7/10\n",
      "1563/1563 [==============================] - 8s 5ms/step - loss: 0.6235 - accuracy: 0.7829\n",
      "Epoch 8/10\n",
      "1563/1563 [==============================] - 8s 5ms/step - loss: 0.5839 - accuracy: 0.7943\n",
      "Epoch 9/10\n",
      "1563/1563 [==============================] - 8s 5ms/step - loss: 0.5577 - accuracy: 0.8044\n",
      "Epoch 10/10\n",
      "1563/1563 [==============================] - 8s 5ms/step - loss: 0.5186 - accuracy: 0.8180\n"
     ]
    },
    {
     "data": {
      "text/plain": [
       "<keras.callbacks.History at 0x7f6874045370>"
      ]
     },
     "execution_count": 26,
     "metadata": {},
     "output_type": "execute_result"
    }
   ],
   "source": [
    "cnn.fit(X_train, y_train, epochs=10, batch_size=32 )"
   ]
  },
  {
   "cell_type": "markdown",
   "metadata": {
    "id": "Ka28Alt-WLWo"
   },
   "source": [
    "**15) Increase the batch size to 64 and retrain.  Better or worse?  Try 128 as well.  How does increasing the batch size improve the training?**"
   ]
  },
  {
   "cell_type": "code",
   "execution_count": null,
   "metadata": {
    "colab": {
     "base_uri": "https://localhost:8080/"
    },
    "id": "8x_bFedeWLWo",
    "outputId": "4d36b580-3fdb-4f56-fd22-da4f80f67b33"
   },
   "outputs": [
    {
     "name": "stdout",
     "output_type": "stream",
     "text": [
      "Epoch 1/10\n",
      "782/782 [==============================] - 6s 7ms/step - loss: 0.3691 - accuracy: 0.8700\n",
      "Epoch 2/10\n",
      "782/782 [==============================] - 6s 7ms/step - loss: 0.3256 - accuracy: 0.8837\n",
      "Epoch 3/10\n",
      "782/782 [==============================] - 7s 8ms/step - loss: 0.3072 - accuracy: 0.8903\n",
      "Epoch 4/10\n",
      "782/782 [==============================] - 5s 7ms/step - loss: 0.2851 - accuracy: 0.8978\n",
      "Epoch 5/10\n",
      "782/782 [==============================] - 6s 8ms/step - loss: 0.2619 - accuracy: 0.9061\n",
      "Epoch 6/10\n",
      "782/782 [==============================] - 6s 8ms/step - loss: 0.2489 - accuracy: 0.9115\n",
      "Epoch 7/10\n",
      "782/782 [==============================] - 7s 9ms/step - loss: 0.2316 - accuracy: 0.9153\n",
      "Epoch 8/10\n",
      "782/782 [==============================] - 7s 8ms/step - loss: 0.2128 - accuracy: 0.9251\n",
      "Epoch 9/10\n",
      "782/782 [==============================] - 7s 10ms/step - loss: 0.2007 - accuracy: 0.9287\n",
      "Epoch 10/10\n",
      "782/782 [==============================] - 7s 10ms/step - loss: 0.1870 - accuracy: 0.9336\n"
     ]
    },
    {
     "data": {
      "text/plain": [
       "<keras.callbacks.History at 0x7f685e363490>"
      ]
     },
     "execution_count": 27,
     "metadata": {},
     "output_type": "execute_result"
    }
   ],
   "source": [
    "cnn.fit(X_train, y_train, epochs=10, batch_size=64 )"
   ]
  },
  {
   "cell_type": "code",
   "execution_count": null,
   "metadata": {
    "colab": {
     "base_uri": "https://localhost:8080/"
    },
    "id": "uU7GsTkqcd_M",
    "outputId": "9d068a80-6183-4716-f4fe-b4bb06343711"
   },
   "outputs": [
    {
     "name": "stdout",
     "output_type": "stream",
     "text": [
      "Epoch 1/10\n",
      "391/391 [==============================] - 5s 13ms/step - loss: 0.1174 - accuracy: 0.9607\n",
      "Epoch 2/10\n",
      "391/391 [==============================] - 5s 12ms/step - loss: 0.0989 - accuracy: 0.9670\n",
      "Epoch 3/10\n",
      "391/391 [==============================] - 5s 12ms/step - loss: 0.0901 - accuracy: 0.9684\n",
      "Epoch 4/10\n",
      "391/391 [==============================] - 5s 13ms/step - loss: 0.0866 - accuracy: 0.9705\n",
      "Epoch 5/10\n",
      "391/391 [==============================] - 5s 13ms/step - loss: 0.0877 - accuracy: 0.9701\n",
      "Epoch 6/10\n",
      "391/391 [==============================] - 5s 13ms/step - loss: 0.0853 - accuracy: 0.9712\n",
      "Epoch 7/10\n",
      "391/391 [==============================] - 5s 12ms/step - loss: 0.0890 - accuracy: 0.9686\n",
      "Epoch 8/10\n",
      "391/391 [==============================] - 5s 12ms/step - loss: 0.0841 - accuracy: 0.9699\n",
      "Epoch 9/10\n",
      "391/391 [==============================] - 5s 12ms/step - loss: 0.0885 - accuracy: 0.9692\n",
      "Epoch 10/10\n",
      "391/391 [==============================] - 4s 11ms/step - loss: 0.0854 - accuracy: 0.9701\n"
     ]
    },
    {
     "data": {
      "text/plain": [
       "<keras.callbacks.History at 0x7f685e374e50>"
      ]
     },
     "execution_count": 28,
     "metadata": {},
     "output_type": "execute_result"
    }
   ],
   "source": [
    "cnn.fit(X_train, y_train, epochs=10, batch_size=128 )"
   ]
  },
  {
   "cell_type": "markdown",
   "metadata": {
    "id": "Iz0HXWppWLWp"
   },
   "source": [
    "**16) Note how the validation accuracy begins to decrease at some point, while the training accuracy continues to increase.  What is this phenomena called?  Try adding 3 dropout layers to the model, one before each max pooling layer and one before the last layer, using a dropout ratio of 0.25.  Does this improve the model?**"
   ]
  },
  {
   "cell_type": "code",
   "execution_count": null,
   "metadata": {
    "id": "zHotuFATWLWp"
   },
   "outputs": [],
   "source": [
    "#  Overfitting. Value of accuracy after adding dropout = 0.83"
   ]
  },
  {
   "cell_type": "markdown",
   "metadata": {
    "id": "1oh_RgY0WLWp"
   },
   "source": [
    "**17) Play with batch normalization.  For example, add batch normalization layers after each dropout layer.  Do you notice a faster increase in the model improvement? Why?**"
   ]
  },
  {
   "cell_type": "code",
   "execution_count": null,
   "metadata": {
    "id": "SUokdGWKWLWp"
   },
   "outputs": [],
   "source": [
    "# Accuracy is 0.88 after adding batch normalization"
   ]
  },
  {
   "cell_type": "markdown",
   "metadata": {
    "id": "3-Jv9xcSWLWq"
   },
   "source": [
    "<a id='results'></a>\n",
    "\n",
    "# 4 - Interpreting the results\n",
    " \n",
    "<a id='results_prediction'></a>\n",
    "\n",
    "## 4.1 - Making predictions\n",
    "\n",
    "Assuming all went well during the previous tasks, you can now predict the category of a new image!  Here are a few examples of my predictions:"
   ]
  },
  {
   "cell_type": "markdown",
   "metadata": {
    "id": "PRLtXjvCWLWq"
   },
   "source": [
    "![Results.png](attachment:Results.png)"
   ]
  },
  {
   "cell_type": "markdown",
   "metadata": {
    "id": "DYvHGmpSWLWq"
   },
   "source": [
    "**18) Use `predict` on your trained model to test its prediction on a few example images of the test set. Using `imshow` and `hbar` from `matplotlib.pyplot`, try to recreate the image above for a few example images.**\n",
    "\n",
    "<!---**Hint:** at this point, it is probably convenient to use the `save` and `load_model` functions from Keras.  You can save the model after training it, and then decide to load from saved file instead of building a new one (if available) on successive runs.--->"
   ]
  },
  {
   "cell_type": "code",
   "execution_count": null,
   "metadata": {
    "id": "HU4R_qpWWLWr"
   },
   "outputs": [],
   "source": []
  },
  {
   "cell_type": "markdown",
   "metadata": {
    "id": "03jBdUhMWLWr"
   },
   "source": [
    "<a id='results_evaluation'></a>\n",
    "\n",
    "## 4.2 Evaluating the results"
   ]
  },
  {
   "cell_type": "markdown",
   "metadata": {
    "id": "Rct-ggXEWLWr"
   },
   "source": [
    "A confusion matrix is often used in supervised learning to understand how well (or not) each category is being classified.  Each element (i,j) in the confusion matrix represents the predicted class j for each true class i.  Consider the following 10 predictions for a 2 category model predicting male or female:\n",
    "\n",
    "| example     | true category  | predicted category  |\n",
    "|-------------|----------------|---------------------|\n",
    "| 1           | male           | male                |\n",
    "| 2           | female         | male                |\n",
    "| 3           | female         | female              |\n",
    "| 4           | male           | male                |\n",
    "| 5           | male           | female              |\n",
    "| 6           | male           | male                |\n",
    "| 7           | female         | female              |\n",
    "| 8           | male           | female              |\n",
    "| 9           | female         | female              |\n",
    "| 10          | female         | female              |\n",
    "\n",
    "Based on the above data, the model is accurate 70% of the time.  The confusion matrix is\n",
    "\n",
    "|        | male | female |\n",
    "|--------|------|--------|\n",
    "| male   | 3    | 2      |\n",
    "| female | 1    | 4      |\n",
    "\n",
    "The confusion matrix gives us more information than a simple accuracy measurement.  In this case, we see that the class female has a higher accuracy over male.  "
   ]
  },
  {
   "cell_type": "markdown",
   "metadata": {
    "id": "wDe8gL5XWLWr"
   },
   "source": [
    "**19) Create the confusion matrix for the CIFAR-10 dataset using the test data.  What does it tell you about the relationships between each class?**"
   ]
  },
  {
   "cell_type": "code",
   "execution_count": null,
   "metadata": {
    "colab": {
     "base_uri": "https://localhost:8080/"
    },
    "id": "VvyDzmjIWLWs",
    "outputId": "0c4c3321-365e-4df2-8bee-83a6366d912a",
    "scrolled": true
   },
   "outputs": [
    {
     "name": "stdout",
     "output_type": "stream",
     "text": [
      "313/313 [==============================] - 1s 3ms/step\n",
      "Classification Report: \n",
      "               precision    recall  f1-score   support\n",
      "\n",
      "           0       0.78      0.86      0.82      1000\n",
      "           1       0.91      0.88      0.90      1000\n",
      "           2       0.71      0.73      0.72      1000\n",
      "           3       0.62      0.64      0.63      1000\n",
      "           4       0.70      0.80      0.75      1000\n",
      "           5       0.73      0.69      0.71      1000\n",
      "           6       0.78      0.89      0.83      1000\n",
      "           7       0.91      0.77      0.84      1000\n",
      "           8       0.91      0.82      0.86      1000\n",
      "           9       0.91      0.82      0.87      1000\n",
      "\n",
      "    accuracy                           0.79     10000\n",
      "   macro avg       0.80      0.79      0.79     10000\n",
      "weighted avg       0.80      0.79      0.79     10000\n",
      "\n"
     ]
    }
   ],
   "source": [
    "from sklearn.metrics import confusion_matrix , classification_report\n",
    "y_pred = cnn.predict(X_test)\n",
    "y_pred_classes = [np.argmax(element) for element in y_pred]\n",
    "print(\"Classification Report: \\n\", classification_report(y_test, y_pred_classes))"
   ]
  },
  {
   "cell_type": "markdown",
   "metadata": {
    "id": "Y14edMj9WLWs"
   },
   "source": [
    "<a id='pretrained_cnn'></a>\n",
    "# 5 - Improving on current performances"
   ]
  },
  {
   "cell_type": "markdown",
   "metadata": {
    "id": "kK2P7n1uWLWs"
   },
   "source": [
    "**20) Play with different CNN architectures. Provide a few attempts (atleast 1 and atmost 3)**"
   ]
  },
  {
   "cell_type": "code",
   "execution_count": null,
   "metadata": {
    "colab": {
     "base_uri": "https://localhost:8080/"
    },
    "id": "urr6cdl_WLWt",
    "outputId": "fd818d32-b576-403a-9675-863ddf67fbe1"
   },
   "outputs": [
    {
     "name": "stdout",
     "output_type": "stream",
     "text": [
      "Model: \"sequential_8\"\n",
      "_________________________________________________________________\n",
      " Layer (type)                Output Shape              Param #   \n",
      "=================================================================\n",
      " conv2d_8 (Conv2D)           (None, 28, 28, 6)         156       \n",
      "                                                                 \n",
      " average_pooling2d (AverageP  (None, 14, 14, 6)        0         \n",
      " ooling2D)                                                       \n",
      "                                                                 \n",
      " conv2d_9 (Conv2D)           (None, 10, 10, 16)        2416      \n",
      "                                                                 \n",
      " average_pooling2d_1 (Averag  (None, 5, 5, 16)         0         \n",
      " ePooling2D)                                                     \n",
      "                                                                 \n",
      " flatten_2 (Flatten)         (None, 400)               0         \n",
      "                                                                 \n",
      " dense_34 (Dense)            (None, 120)               48120     \n",
      "                                                                 \n",
      " dense_35 (Dense)            (None, 84)                10164     \n",
      "                                                                 \n",
      " dense_36 (Dense)            (None, 43)                3655      \n",
      "                                                                 \n",
      "=================================================================\n",
      "Total params: 64,511\n",
      "Trainable params: 64,511\n",
      "Non-trainable params: 0\n",
      "_________________________________________________________________\n"
     ]
    }
   ],
   "source": [
    "# 20) LeNet_CNN\n",
    "LeNet = keras.models.Sequential()\n",
    "\n",
    "LeNet.add(keras.layers.Conv2D(6, (5,5), activation = 'relu', input_shape= (32,32,1)))\n",
    "LeNet.add(keras.layers.AveragePooling2D())\n",
    "\n",
    "LeNet.add(keras.layers.Conv2D(16, (5,5), activation = 'relu'))\n",
    "LeNet.add(keras.layers.AveragePooling2D())\n",
    "\n",
    "LeNet.add(keras.layers.Flatten())\n",
    "\n",
    "LeNet.add(keras.layers.Dense(120, activation='relu'))\n",
    "\n",
    "LeNet.add(keras.layers.Dense(84, activation='relu'))\n",
    "\n",
    "LeNet.add(keras.layers.Dense(43, activation='softmax'))\n",
    "LeNet.summary()"
   ]
  },
  {
   "cell_type": "markdown",
   "metadata": {
    "id": "6DxNAlFnWLWt"
   },
   "source": [
    "Note that several pre-trained networks are directly accessible via keras (see https://nbviewer.jupyter.org/github/fchollet/deep-learning-with-python-notebooks/blob/master/5.3-using-a-pretrained-convnet.ipynb)"
   ]
  }
 ],
 "metadata": {
  "accelerator": "GPU",
  "anaconda-cloud": {},
  "colab": {
   "provenance": []
  },
  "gpuClass": "standard",
  "kernelspec": {
   "display_name": "Python 3 (ipykernel)",
   "language": "python",
   "name": "python3"
  },
  "language_info": {
   "codemirror_mode": {
    "name": "ipython",
    "version": 3
   },
   "file_extension": ".py",
   "mimetype": "text/x-python",
   "name": "python",
   "nbconvert_exporter": "python",
   "pygments_lexer": "ipython3",
   "version": "3.9.12"
  }
 },
 "nbformat": 4,
 "nbformat_minor": 1
}
