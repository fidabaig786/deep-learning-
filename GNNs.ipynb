{
 "cells": [
  {
   "cell_type": "markdown",
   "id": "14df997f",
   "metadata": {},
   "source": [
    "# GANs - Generative Adverserial Networks"
   ]
  },
  {
   "cell_type": "code",
   "execution_count": 1,
   "id": "af8181b8",
   "metadata": {},
   "outputs": [],
   "source": [
    "import pandas as pd\n",
    "import numpy as np\n",
    "import matplotlib.pyplot as plt"
   ]
  },
  {
   "cell_type": "code",
   "execution_count": 2,
   "id": "13471c6f",
   "metadata": {},
   "outputs": [],
   "source": [
    "from tensorflow.keras.datasets import mnist"
   ]
  },
  {
   "cell_type": "code",
   "execution_count": 3,
   "id": "2de11e7c",
   "metadata": {},
   "outputs": [],
   "source": [
    "(X_train, y_train), (X_test, y_test) = mnist.load_data()"
   ]
  },
  {
   "cell_type": "code",
   "execution_count": 4,
   "id": "0f126b81",
   "metadata": {},
   "outputs": [
    {
     "data": {
      "text/plain": [
       "<matplotlib.image.AxesImage at 0x298c838ff08>"
      ]
     },
     "execution_count": 4,
     "metadata": {},
     "output_type": "execute_result"
    },
    {
     "data": {
      "image/png": "[encoded data removed]",
      "text/plain": [
       "<Figure size 640x480 with 1 Axes>"
      ]
     },
     "metadata": {},
     "output_type": "display_data"
    }
   ],
   "source": [
    "plt.imshow(X_train[0])"
   ]
  },
  {
   "cell_type": "code",
   "execution_count": 5,
   "id": "32190de4",
   "metadata": {},
   "outputs": [
    {
     "data": {
      "text/plain": [
       "array([5, 0, 4, ..., 5, 6, 8], dtype=uint8)"
      ]
     },
     "execution_count": 5,
     "metadata": {},
     "output_type": "execute_result"
    }
   ],
   "source": [
    "y_train"
   ]
  },
  {
   "cell_type": "markdown",
   "id": "9ec28941",
   "metadata": {},
   "source": [
    "## Filtering out the Data for Faster Training on Smaller Dataset"
   ]
  },
  {
   "cell_type": "code",
   "execution_count": 6,
   "id": "620f6fb3",
   "metadata": {},
   "outputs": [],
   "source": [
    "only_zeros = X_train[y_train==0]"
   ]
  },
  {
   "cell_type": "code",
   "execution_count": 7,
   "id": "44bbea76",
   "metadata": {},
   "outputs": [
    {
     "data": {
      "text/plain": [
       "(5923, 28, 28)"
      ]
     },
     "execution_count": 7,
     "metadata": {},
     "output_type": "execute_result"
    }
   ],
   "source": [
    "only_zeros.shape"
   ]
  },
  {
   "cell_type": "code",
   "execution_count": 8,
   "id": "78aad0ad",
   "metadata": {},
   "outputs": [
    {
     "data": {
      "text/plain": [
       "<matplotlib.image.AxesImage at 0x298cfb54108>"
      ]
     },
     "execution_count": 8,
     "metadata": {},
     "output_type": "execute_result"
    },
    {
     "data": {
      "image/png": "[encoded data removed]",
      "text/plain": [
       "<Figure size 640x480 with 1 Axes>"
      ]
     },
     "metadata": {},
     "output_type": "display_data"
    }
   ],
   "source": [
    "plt.imshow(only_zeros[950])"
   ]
  },
  {
   "cell_type": "code",
   "execution_count": 9,
   "id": "a3371200",
   "metadata": {},
   "outputs": [],
   "source": [
    "import tensorflow as tf\n",
    "from tensorflow.keras.layers import Dense,Reshape,Flatten\n",
    "from tensorflow.keras.models import Sequential"
   ]
  },
  {
   "cell_type": "code",
   "execution_count": 10,
   "id": "cc7d1109",
   "metadata": {},
   "outputs": [],
   "source": [
    "np.random.seed(42)\n",
    "tf.random.set_seed(42)\n",
    "\n",
    "codings_size = 100"
   ]
  },
  {
   "cell_type": "code",
   "execution_count": 11,
   "id": "7a7d107b",
   "metadata": {},
   "outputs": [],
   "source": [
    "generator = Sequential()\n",
    "generator.add(Dense(100, activation=\"relu\", input_shape=[codings_size]))\n",
    "generator.add(Dense(150,activation='relu'))\n",
    "generator.add(Dense(784, activation=\"sigmoid\")) # 28*28 = 784\n",
    "generator.add(Reshape([28,28]))"
   ]
  },
  {
   "cell_type": "code",
   "execution_count": 12,
   "id": "048ddc3f",
   "metadata": {},
   "outputs": [],
   "source": [
    "discriminator = Sequential()\n",
    "discriminator.add(Flatten(input_shape=[28,28]))\n",
    "discriminator.add(Dense(150,activation='relu'))\n",
    "discriminator.add(Dense(100,activation='relu'))\n",
    "discriminator.add(Dense(1,activation=\"sigmoid\"))\n",
    "\n",
    "discriminator.compile(loss=\"binary_crossentropy\", optimizer=\"adam\")"
   ]
  },
  {
   "cell_type": "code",
   "execution_count": 13,
   "id": "2f59d8ab",
   "metadata": {},
   "outputs": [],
   "source": [
    "GAN = Sequential([generator, discriminator])"
   ]
  },
  {
   "cell_type": "code",
   "execution_count": 14,
   "id": "d8a9c838",
   "metadata": {},
   "outputs": [],
   "source": [
    "discriminator.trainable = False"
   ]
  },
  {
   "cell_type": "code",
   "execution_count": 15,
   "id": "760b7b31",
   "metadata": {},
   "outputs": [],
   "source": [
    "GAN.compile(loss=\"binary_crossentropy\", optimizer=\"adam\")"
   ]
  },
  {
   "cell_type": "code",
   "execution_count": 16,
   "id": "8a4e1f6f",
   "metadata": {},
   "outputs": [
    {
     "data": {
      "text/plain": [
       "[<tensorflow.python.keras.engine.sequential.Sequential at 0x298cfd23ac8>,\n",
       " <tensorflow.python.keras.engine.sequential.Sequential at 0x298d01ee7c8>]"
      ]
     },
     "execution_count": 16,
     "metadata": {},
     "output_type": "execute_result"
    }
   ],
   "source": [
    "GAN.layers"
   ]
  },
  {
   "cell_type": "code",
   "execution_count": 17,
   "id": "d6e69f7a",
   "metadata": {},
   "outputs": [
    {
     "name": "stdout",
     "output_type": "stream",
     "text": [
      "Model: \"sequential_2\"\n",
      "_________________________________________________________________\n",
      "Layer (type)                 Output Shape              Param #   \n",
      "=================================================================\n",
      "sequential (Sequential)      (None, 28, 28)            143634    \n",
      "_________________________________________________________________\n",
      "sequential_1 (Sequential)    (None, 1)                 132951    \n",
      "=================================================================\n",
      "Total params: 276,585\n",
      "Trainable params: 143,634\n",
      "Non-trainable params: 132,951\n",
      "_________________________________________________________________\n"
     ]
    }
   ],
   "source": [
    "GAN.summary()"
   ]
  },
  {
   "cell_type": "code",
   "execution_count": 18,
   "id": "04449ca8",
   "metadata": {},
   "outputs": [
    {
     "name": "stdout",
     "output_type": "stream",
     "text": [
      "Model: \"sequential\"\n",
      "_________________________________________________________________\n",
      "Layer (type)                 Output Shape              Param #   \n",
      "=================================================================\n",
      "dense (Dense)                (None, 100)               10100     \n",
      "_________________________________________________________________\n",
      "dense_1 (Dense)              (None, 150)               15150     \n",
      "_________________________________________________________________\n",
      "dense_2 (Dense)              (None, 784)               118384    \n",
      "_________________________________________________________________\n",
      "reshape (Reshape)            (None, 28, 28)            0         \n",
      "=================================================================\n",
      "Total params: 143,634\n",
      "Trainable params: 143,634\n",
      "Non-trainable params: 0\n",
      "_________________________________________________________________\n"
     ]
    }
   ],
   "source": [
    "GAN.layers[0].summary()"
   ]
  },
  {
   "cell_type": "code",
   "execution_count": 19,
   "id": "b6b121ca",
   "metadata": {},
   "outputs": [
    {
     "name": "stdout",
     "output_type": "stream",
     "text": [
      "Model: \"sequential_1\"\n",
      "_________________________________________________________________\n",
      "Layer (type)                 Output Shape              Param #   \n",
      "=================================================================\n",
      "flatten (Flatten)            (None, 784)               0         \n",
      "_________________________________________________________________\n",
      "dense_3 (Dense)              (None, 150)               117750    \n",
      "_________________________________________________________________\n",
      "dense_4 (Dense)              (None, 100)               15100     \n",
      "_________________________________________________________________\n",
      "dense_5 (Dense)              (None, 1)                 101       \n",
      "=================================================================\n",
      "Total params: 132,951\n",
      "Trainable params: 0\n",
      "Non-trainable params: 132,951\n",
      "_________________________________________________________________\n"
     ]
    }
   ],
   "source": [
    "GAN.layers[1].summary()"
   ]
  },
  {
   "cell_type": "markdown",
   "id": "8515cd39",
   "metadata": {},
   "source": [
    "### Setting up Training Batches"
   ]
  },
  {
   "cell_type": "code",
   "execution_count": 20,
   "id": "a0628155",
   "metadata": {},
   "outputs": [],
   "source": [
    "import tensorflow as tf"
   ]
  },
  {
   "cell_type": "code",
   "execution_count": 21,
   "id": "4d21ad6c",
   "metadata": {},
   "outputs": [],
   "source": [
    "batch_size = 32"
   ]
  },
  {
   "cell_type": "markdown",
   "id": "2095e129",
   "metadata": {},
   "source": [
    "https://stackoverflow.com/questions/46444018/meaning-of-buffer-size-in-dataset-map-dataset-prefetch-and-dataset-shuffle\n",
    "\n",
    "The buffer_size in Dataset.shuffle() can affect the randomness of your dataset, and hence the order in which elements are produced. "
   ]
  },
  {
   "cell_type": "code",
   "execution_count": 22,
   "id": "b86f4ad4",
   "metadata": {},
   "outputs": [],
   "source": [
    "# my_data = X_train\n",
    "my_data = only_zeros"
   ]
  },
  {
   "cell_type": "code",
   "execution_count": 23,
   "id": "6aa387ac",
   "metadata": {},
   "outputs": [],
   "source": [
    "dataset = tf.data.Dataset.from_tensor_slices(my_data).shuffle(buffer_size=1000)"
   ]
  },
  {
   "cell_type": "code",
   "execution_count": 24,
   "id": "c673024a",
   "metadata": {},
   "outputs": [
    {
     "data": {
      "text/plain": [
       "tensorflow.python.data.ops.dataset_ops.ShuffleDataset"
      ]
     },
     "execution_count": 24,
     "metadata": {},
     "output_type": "execute_result"
    }
   ],
   "source": [
    "type(dataset)"
   ]
  },
  {
   "cell_type": "code",
   "execution_count": 25,
   "id": "db2e0261",
   "metadata": {},
   "outputs": [],
   "source": [
    "dataset = dataset.batch(batch_size, drop_remainder=True).prefetch(1)"
   ]
  },
  {
   "cell_type": "code",
   "execution_count": 26,
   "id": "5c667042",
   "metadata": {},
   "outputs": [],
   "source": [
    "epochs = 1"
   ]
  },
  {
   "cell_type": "markdown",
   "id": "e11a82fa",
   "metadata": {},
   "source": [
    "**NOTE: The generator never actually sees any real images. It learns by viewing the gradients going back through the discriminator. The better the discrimnator gets through training, the more information the discriminator contains in its gradients, which means the generator can being to make progress in learning how to generate fake images, in our case, fake zeros.**\n",
    "\n",
    "## Training Loop"
   ]
  },
  {
   "cell_type": "code",
   "execution_count": 27,
   "id": "6a9a9510",
   "metadata": {},
   "outputs": [
    {
     "name": "stdout",
     "output_type": "stream",
     "text": [
      "Currently on Epoch 1\n",
      "\tCurrently on batch number 100 of 185\n",
      "TRAINING COMPLETE\n"
     ]
    }
   ],
   "source": [
    "# Grab the seprate components\n",
    "generator, discriminator = GAN.layers\n",
    "\n",
    "# For every epcoh\n",
    "for epoch in range(epochs):\n",
    "    print(f\"Currently on Epoch {epoch+1}\")\n",
    "    i = 0\n",
    "    # For every batch in the dataset\n",
    "    for X_batch in dataset:\n",
    "        i=i+1\n",
    "        if i%100 == 0:\n",
    "            print(f\"\\tCurrently on batch number {i} of {len(my_data)//batch_size}\")\n",
    "        #####################################\n",
    "        ## TRAINING THE DISCRIMINATOR ######\n",
    "        ###################################\n",
    "        \n",
    "        # Create Noise\n",
    "        noise = tf.random.normal(shape=[batch_size, codings_size])\n",
    "        \n",
    "        # Generate numbers based just on noise input\n",
    "        gen_images = generator(noise)\n",
    "        \n",
    "        # Concatenate Generated Images against the Real Ones\n",
    "        # TO use tf.concat, the data types must match!\n",
    "        X_fake_vs_real = tf.concat([gen_images, tf.dtypes.cast(X_batch,tf.float32)], axis=0)\n",
    "        \n",
    "        # Targets set to zero for fake images and 1 for real images\n",
    "        y1 = tf.constant([[0.]] * batch_size + [[1.]] * batch_size)\n",
    "        \n",
    "        # This gets rid of a Keras warning\n",
    "        discriminator.trainable = True\n",
    "        \n",
    "        # Train the discriminator on this batch\n",
    "        discriminator.train_on_batch(X_fake_vs_real, y1)\n",
    "        \n",
    "        \n",
    "        #####################################\n",
    "        ## TRAINING THE GENERATOR     ######\n",
    "        ###################################\n",
    "        \n",
    "        # Create some noise\n",
    "        noise = tf.random.normal(shape=[batch_size, codings_size])\n",
    "        \n",
    "        # We want discriminator to belive that fake images are real\n",
    "        y2 = tf.constant([[1.]] * batch_size)\n",
    "        \n",
    "        # Avois a warning\n",
    "        discriminator.trainable = False\n",
    "        \n",
    "        GAN.train_on_batch(noise, y2)\n",
    "        \n",
    "print(\"TRAINING COMPLETE\")            "
   ]
  },
  {
   "cell_type": "markdown",
   "id": "421340f1",
   "metadata": {},
   "source": [
    "### Most likely your generator will only learn to create one type of noisey zero\n",
    "### Regardless of what noise is passed in."
   ]
  },
  {
   "cell_type": "markdown",
   "id": "e5655f56",
   "metadata": {},
   "source": [
    "https://www.quora.com/What-does-it-mean-if-all-produced-images-of-a-GAN-look-the-same"
   ]
  },
  {
   "cell_type": "code",
   "execution_count": 28,
   "id": "3d605615",
   "metadata": {},
   "outputs": [],
   "source": [
    "noise = tf.random.normal(shape=[10, codings_size])"
   ]
  },
  {
   "cell_type": "code",
   "execution_count": 29,
   "id": "9d83900a",
   "metadata": {},
   "outputs": [
    {
     "data": {
      "text/plain": [
       "TensorShape([10, 100])"
      ]
     },
     "execution_count": 29,
     "metadata": {},
     "output_type": "execute_result"
    }
   ],
   "source": [
    "noise.shape"
   ]
  },
  {
   "cell_type": "code",
   "execution_count": 30,
   "id": "d35251c0",
   "metadata": {},
   "outputs": [
    {
     "data": {
      "text/plain": [
       "<matplotlib.image.AxesImage at 0x298d75846c8>"
      ]
     },
     "execution_count": 30,
     "metadata": {},
     "output_type": "execute_result"
    },
    {
     "data": {
      "image/png": "[encoded data removed]",
      "text/plain": [
       "<Figure size 640x480 with 1 Axes>"
      ]
     },
     "metadata": {},
     "output_type": "display_data"
    }
   ],
   "source": [
    "plt.imshow(noise)"
   ]
  },
  {
   "cell_type": "code",
   "execution_count": 31,
   "id": "92cb7967",
   "metadata": {},
   "outputs": [],
   "source": [
    "image = generator(noise)"
   ]
  },
  {
   "cell_type": "code",
   "execution_count": 32,
   "id": "eb903b69",
   "metadata": {},
   "outputs": [
    {
     "data": {
      "text/plain": [
       "<matplotlib.image.AxesImage at 0x298d893fcc8>"
      ]
     },
     "execution_count": 32,
     "metadata": {},
     "output_type": "execute_result"
    },
    {
     "data": {
      "image/png": "[encoded data removed]",
      "text/plain": [
       "<Figure size 640x480 with 1 Axes>"
      ]
     },
     "metadata": {},
     "output_type": "display_data"
    }
   ],
   "source": [
    "plt.imshow(image[5])"
   ]
  },
  {
   "cell_type": "code",
   "execution_count": null,
   "id": "dc95a72c",
   "metadata": {},
   "outputs": [],
   "source": []
  }
 ],
 "metadata": {
  "kernelspec": {
   "display_name": "Python 3 (ipykernel)",
   "language": "python",
   "name": "python3"
  },
  "language_info": {
   "codemirror_mode": {
    "name": "ipython",
    "version": 3
   },
   "file_extension": ".py",
   "mimetype": "text/x-python",
   "name": "python",
   "nbconvert_exporter": "python",
   "pygments_lexer": "ipython3",
   "version": "3.9.12"
  }
 },
 "nbformat": 4,
 "nbformat_minor": 5
}
