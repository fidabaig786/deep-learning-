{
 "cells": [
  {
   "cell_type": "markdown",
   "id": "4a1eb677",
   "metadata": {},
   "source": [
    "# Import required Librarires"
   ]
  },
  {
   "cell_type": "code",
   "execution_count": 1,
   "id": "478df7e5",
   "metadata": {},
   "outputs": [],
   "source": [
    "import pandas as pd\n",
    "import numpy as np\n",
    "import matplotlib.pyplot as plt"
   ]
  },
  {
   "cell_type": "markdown",
   "id": "27e8d60e",
   "metadata": {},
   "source": [
    "# Loading Dataset"
   ]
  },
  {
   "cell_type": "code",
   "execution_count": 10,
   "id": "34ad1302",
   "metadata": {},
   "outputs": [],
   "source": [
    "df=pd.read_csv(\"sonar.csv\",header=None)"
   ]
  },
  {
   "cell_type": "code",
   "execution_count": 11,
   "id": "7778742c",
   "metadata": {},
   "outputs": [
    {
     "data": {
      "text/html": [
       "<div>\n",
       "<style scoped>\n",
       "    .dataframe tbody tr th:only-of-type {\n",
       "        vertical-align: middle;\n",
       "    }\n",
       "\n",
       "    .dataframe tbody tr th {\n",
       "        vertical-align: top;\n",
       "    }\n",
       "\n",
       "    .dataframe thead th {\n",
       "        text-align: right;\n",
       "    }\n",
       "</style>\n",
       "<table border=\"1\" class=\"dataframe\">\n",
       "  <thead>\n",
       "    <tr style=\"text-align: right;\">\n",
       "      <th></th>\n",
       "      <th>0</th>\n",
       "      <th>1</th>\n",
       "      <th>2</th>\n",
       "      <th>3</th>\n",
       "      <th>4</th>\n",
       "      <th>5</th>\n",
       "      <th>6</th>\n",
       "      <th>7</th>\n",
       "      <th>8</th>\n",
       "      <th>9</th>\n",
       "      <th>...</th>\n",
       "      <th>51</th>\n",
       "      <th>52</th>\n",
       "      <th>53</th>\n",
       "      <th>54</th>\n",
       "      <th>55</th>\n",
       "      <th>56</th>\n",
       "      <th>57</th>\n",
       "      <th>58</th>\n",
       "      <th>59</th>\n",
       "      <th>60</th>\n",
       "    </tr>\n",
       "  </thead>\n",
       "  <tbody>\n",
       "    <tr>\n",
       "      <th>0</th>\n",
       "      <td>0.0200</td>\n",
       "      <td>0.0371</td>\n",
       "      <td>0.0428</td>\n",
       "      <td>0.0207</td>\n",
       "      <td>0.0954</td>\n",
       "      <td>0.0986</td>\n",
       "      <td>0.1539</td>\n",
       "      <td>0.1601</td>\n",
       "      <td>0.3109</td>\n",
       "      <td>0.2111</td>\n",
       "      <td>...</td>\n",
       "      <td>0.0027</td>\n",
       "      <td>0.0065</td>\n",
       "      <td>0.0159</td>\n",
       "      <td>0.0072</td>\n",
       "      <td>0.0167</td>\n",
       "      <td>0.0180</td>\n",
       "      <td>0.0084</td>\n",
       "      <td>0.0090</td>\n",
       "      <td>0.0032</td>\n",
       "      <td>R</td>\n",
       "    </tr>\n",
       "    <tr>\n",
       "      <th>1</th>\n",
       "      <td>0.0453</td>\n",
       "      <td>0.0523</td>\n",
       "      <td>0.0843</td>\n",
       "      <td>0.0689</td>\n",
       "      <td>0.1183</td>\n",
       "      <td>0.2583</td>\n",
       "      <td>0.2156</td>\n",
       "      <td>0.3481</td>\n",
       "      <td>0.3337</td>\n",
       "      <td>0.2872</td>\n",
       "      <td>...</td>\n",
       "      <td>0.0084</td>\n",
       "      <td>0.0089</td>\n",
       "      <td>0.0048</td>\n",
       "      <td>0.0094</td>\n",
       "      <td>0.0191</td>\n",
       "      <td>0.0140</td>\n",
       "      <td>0.0049</td>\n",
       "      <td>0.0052</td>\n",
       "      <td>0.0044</td>\n",
       "      <td>R</td>\n",
       "    </tr>\n",
       "    <tr>\n",
       "      <th>2</th>\n",
       "      <td>0.0262</td>\n",
       "      <td>0.0582</td>\n",
       "      <td>0.1099</td>\n",
       "      <td>0.1083</td>\n",
       "      <td>0.0974</td>\n",
       "      <td>0.2280</td>\n",
       "      <td>0.2431</td>\n",
       "      <td>0.3771</td>\n",
       "      <td>0.5598</td>\n",
       "      <td>0.6194</td>\n",
       "      <td>...</td>\n",
       "      <td>0.0232</td>\n",
       "      <td>0.0166</td>\n",
       "      <td>0.0095</td>\n",
       "      <td>0.0180</td>\n",
       "      <td>0.0244</td>\n",
       "      <td>0.0316</td>\n",
       "      <td>0.0164</td>\n",
       "      <td>0.0095</td>\n",
       "      <td>0.0078</td>\n",
       "      <td>R</td>\n",
       "    </tr>\n",
       "    <tr>\n",
       "      <th>3</th>\n",
       "      <td>0.0100</td>\n",
       "      <td>0.0171</td>\n",
       "      <td>0.0623</td>\n",
       "      <td>0.0205</td>\n",
       "      <td>0.0205</td>\n",
       "      <td>0.0368</td>\n",
       "      <td>0.1098</td>\n",
       "      <td>0.1276</td>\n",
       "      <td>0.0598</td>\n",
       "      <td>0.1264</td>\n",
       "      <td>...</td>\n",
       "      <td>0.0121</td>\n",
       "      <td>0.0036</td>\n",
       "      <td>0.0150</td>\n",
       "      <td>0.0085</td>\n",
       "      <td>0.0073</td>\n",
       "      <td>0.0050</td>\n",
       "      <td>0.0044</td>\n",
       "      <td>0.0040</td>\n",
       "      <td>0.0117</td>\n",
       "      <td>R</td>\n",
       "    </tr>\n",
       "    <tr>\n",
       "      <th>4</th>\n",
       "      <td>0.0762</td>\n",
       "      <td>0.0666</td>\n",
       "      <td>0.0481</td>\n",
       "      <td>0.0394</td>\n",
       "      <td>0.0590</td>\n",
       "      <td>0.0649</td>\n",
       "      <td>0.1209</td>\n",
       "      <td>0.2467</td>\n",
       "      <td>0.3564</td>\n",
       "      <td>0.4459</td>\n",
       "      <td>...</td>\n",
       "      <td>0.0031</td>\n",
       "      <td>0.0054</td>\n",
       "      <td>0.0105</td>\n",
       "      <td>0.0110</td>\n",
       "      <td>0.0015</td>\n",
       "      <td>0.0072</td>\n",
       "      <td>0.0048</td>\n",
       "      <td>0.0107</td>\n",
       "      <td>0.0094</td>\n",
       "      <td>R</td>\n",
       "    </tr>\n",
       "  </tbody>\n",
       "</table>\n",
       "<p>5 rows × 61 columns</p>\n",
       "</div>"
      ],
      "text/plain": [
       "       0       1       2       3       4       5       6       7       8   \\\n",
       "0  0.0200  0.0371  0.0428  0.0207  0.0954  0.0986  0.1539  0.1601  0.3109   \n",
       "1  0.0453  0.0523  0.0843  0.0689  0.1183  0.2583  0.2156  0.3481  0.3337   \n",
       "2  0.0262  0.0582  0.1099  0.1083  0.0974  0.2280  0.2431  0.3771  0.5598   \n",
       "3  0.0100  0.0171  0.0623  0.0205  0.0205  0.0368  0.1098  0.1276  0.0598   \n",
       "4  0.0762  0.0666  0.0481  0.0394  0.0590  0.0649  0.1209  0.2467  0.3564   \n",
       "\n",
       "       9   ...      51      52      53      54      55      56      57  \\\n",
       "0  0.2111  ...  0.0027  0.0065  0.0159  0.0072  0.0167  0.0180  0.0084   \n",
       "1  0.2872  ...  0.0084  0.0089  0.0048  0.0094  0.0191  0.0140  0.0049   \n",
       "2  0.6194  ...  0.0232  0.0166  0.0095  0.0180  0.0244  0.0316  0.0164   \n",
       "3  0.1264  ...  0.0121  0.0036  0.0150  0.0085  0.0073  0.0050  0.0044   \n",
       "4  0.4459  ...  0.0031  0.0054  0.0105  0.0110  0.0015  0.0072  0.0048   \n",
       "\n",
       "       58      59  60  \n",
       "0  0.0090  0.0032   R  \n",
       "1  0.0052  0.0044   R  \n",
       "2  0.0095  0.0078   R  \n",
       "3  0.0040  0.0117   R  \n",
       "4  0.0107  0.0094   R  \n",
       "\n",
       "[5 rows x 61 columns]"
      ]
     },
     "execution_count": 11,
     "metadata": {},
     "output_type": "execute_result"
    }
   ],
   "source": [
    "df.head()"
   ]
  },
  {
   "cell_type": "markdown",
   "id": "ed7826da",
   "metadata": {},
   "source": [
    "# Data Preprocessing"
   ]
  },
  {
   "cell_type": "code",
   "execution_count": 14,
   "id": "fe898fb3",
   "metadata": {},
   "outputs": [
    {
     "data": {
      "text/plain": [
       "(208, 61)"
      ]
     },
     "execution_count": 14,
     "metadata": {},
     "output_type": "execute_result"
    }
   ],
   "source": [
    "df.shape"
   ]
  },
  {
   "cell_type": "code",
   "execution_count": 13,
   "id": "d4a54b3f",
   "metadata": {},
   "outputs": [
    {
     "data": {
      "text/plain": [
       "0     0\n",
       "1     0\n",
       "2     0\n",
       "3     0\n",
       "4     0\n",
       "     ..\n",
       "56    0\n",
       "57    0\n",
       "58    0\n",
       "59    0\n",
       "60    0\n",
       "Length: 61, dtype: int64"
      ]
     },
     "execution_count": 13,
     "metadata": {},
     "output_type": "execute_result"
    }
   ],
   "source": [
    "df.isnull().sum()"
   ]
  },
  {
   "cell_type": "code",
   "execution_count": 15,
   "id": "72ab7e87",
   "metadata": {},
   "outputs": [
    {
     "data": {
      "text/plain": [
       "Int64Index([ 0,  1,  2,  3,  4,  5,  6,  7,  8,  9, 10, 11, 12, 13, 14, 15, 16,\n",
       "            17, 18, 19, 20, 21, 22, 23, 24, 25, 26, 27, 28, 29, 30, 31, 32, 33,\n",
       "            34, 35, 36, 37, 38, 39, 40, 41, 42, 43, 44, 45, 46, 47, 48, 49, 50,\n",
       "            51, 52, 53, 54, 55, 56, 57, 58, 59, 60],\n",
       "           dtype='int64')"
      ]
     },
     "execution_count": 15,
     "metadata": {},
     "output_type": "execute_result"
    }
   ],
   "source": [
    "df.columns"
   ]
  },
  {
   "cell_type": "code",
   "execution_count": 23,
   "id": "45777c68",
   "metadata": {},
   "outputs": [
    {
     "data": {
      "text/plain": [
       "M    111\n",
       "R     97\n",
       "Name: 60, dtype: int64"
      ]
     },
     "execution_count": 23,
     "metadata": {},
     "output_type": "execute_result"
    }
   ],
   "source": [
    "df[60].value_counts()"
   ]
  },
  {
   "cell_type": "code",
   "execution_count": 25,
   "id": "1759ef89",
   "metadata": {},
   "outputs": [],
   "source": [
    "X=df.drop(60,axis='columns')"
   ]
  },
  {
   "cell_type": "code",
   "execution_count": 30,
   "id": "c926e8b2",
   "metadata": {},
   "outputs": [
    {
     "data": {
      "text/html": [
       "<div>\n",
       "<style scoped>\n",
       "    .dataframe tbody tr th:only-of-type {\n",
       "        vertical-align: middle;\n",
       "    }\n",
       "\n",
       "    .dataframe tbody tr th {\n",
       "        vertical-align: top;\n",
       "    }\n",
       "\n",
       "    .dataframe thead th {\n",
       "        text-align: right;\n",
       "    }\n",
       "</style>\n",
       "<table border=\"1\" class=\"dataframe\">\n",
       "  <thead>\n",
       "    <tr style=\"text-align: right;\">\n",
       "      <th></th>\n",
       "      <th>0</th>\n",
       "      <th>1</th>\n",
       "      <th>2</th>\n",
       "      <th>3</th>\n",
       "      <th>4</th>\n",
       "      <th>5</th>\n",
       "      <th>6</th>\n",
       "      <th>7</th>\n",
       "      <th>8</th>\n",
       "      <th>9</th>\n",
       "      <th>...</th>\n",
       "      <th>50</th>\n",
       "      <th>51</th>\n",
       "      <th>52</th>\n",
       "      <th>53</th>\n",
       "      <th>54</th>\n",
       "      <th>55</th>\n",
       "      <th>56</th>\n",
       "      <th>57</th>\n",
       "      <th>58</th>\n",
       "      <th>59</th>\n",
       "    </tr>\n",
       "  </thead>\n",
       "  <tbody>\n",
       "    <tr>\n",
       "      <th>0</th>\n",
       "      <td>0.0200</td>\n",
       "      <td>0.0371</td>\n",
       "      <td>0.0428</td>\n",
       "      <td>0.0207</td>\n",
       "      <td>0.0954</td>\n",
       "      <td>0.0986</td>\n",
       "      <td>0.1539</td>\n",
       "      <td>0.1601</td>\n",
       "      <td>0.3109</td>\n",
       "      <td>0.2111</td>\n",
       "      <td>...</td>\n",
       "      <td>0.0232</td>\n",
       "      <td>0.0027</td>\n",
       "      <td>0.0065</td>\n",
       "      <td>0.0159</td>\n",
       "      <td>0.0072</td>\n",
       "      <td>0.0167</td>\n",
       "      <td>0.0180</td>\n",
       "      <td>0.0084</td>\n",
       "      <td>0.0090</td>\n",
       "      <td>0.0032</td>\n",
       "    </tr>\n",
       "    <tr>\n",
       "      <th>1</th>\n",
       "      <td>0.0453</td>\n",
       "      <td>0.0523</td>\n",
       "      <td>0.0843</td>\n",
       "      <td>0.0689</td>\n",
       "      <td>0.1183</td>\n",
       "      <td>0.2583</td>\n",
       "      <td>0.2156</td>\n",
       "      <td>0.3481</td>\n",
       "      <td>0.3337</td>\n",
       "      <td>0.2872</td>\n",
       "      <td>...</td>\n",
       "      <td>0.0125</td>\n",
       "      <td>0.0084</td>\n",
       "      <td>0.0089</td>\n",
       "      <td>0.0048</td>\n",
       "      <td>0.0094</td>\n",
       "      <td>0.0191</td>\n",
       "      <td>0.0140</td>\n",
       "      <td>0.0049</td>\n",
       "      <td>0.0052</td>\n",
       "      <td>0.0044</td>\n",
       "    </tr>\n",
       "    <tr>\n",
       "      <th>2</th>\n",
       "      <td>0.0262</td>\n",
       "      <td>0.0582</td>\n",
       "      <td>0.1099</td>\n",
       "      <td>0.1083</td>\n",
       "      <td>0.0974</td>\n",
       "      <td>0.2280</td>\n",
       "      <td>0.2431</td>\n",
       "      <td>0.3771</td>\n",
       "      <td>0.5598</td>\n",
       "      <td>0.6194</td>\n",
       "      <td>...</td>\n",
       "      <td>0.0033</td>\n",
       "      <td>0.0232</td>\n",
       "      <td>0.0166</td>\n",
       "      <td>0.0095</td>\n",
       "      <td>0.0180</td>\n",
       "      <td>0.0244</td>\n",
       "      <td>0.0316</td>\n",
       "      <td>0.0164</td>\n",
       "      <td>0.0095</td>\n",
       "      <td>0.0078</td>\n",
       "    </tr>\n",
       "    <tr>\n",
       "      <th>3</th>\n",
       "      <td>0.0100</td>\n",
       "      <td>0.0171</td>\n",
       "      <td>0.0623</td>\n",
       "      <td>0.0205</td>\n",
       "      <td>0.0205</td>\n",
       "      <td>0.0368</td>\n",
       "      <td>0.1098</td>\n",
       "      <td>0.1276</td>\n",
       "      <td>0.0598</td>\n",
       "      <td>0.1264</td>\n",
       "      <td>...</td>\n",
       "      <td>0.0241</td>\n",
       "      <td>0.0121</td>\n",
       "      <td>0.0036</td>\n",
       "      <td>0.0150</td>\n",
       "      <td>0.0085</td>\n",
       "      <td>0.0073</td>\n",
       "      <td>0.0050</td>\n",
       "      <td>0.0044</td>\n",
       "      <td>0.0040</td>\n",
       "      <td>0.0117</td>\n",
       "    </tr>\n",
       "    <tr>\n",
       "      <th>4</th>\n",
       "      <td>0.0762</td>\n",
       "      <td>0.0666</td>\n",
       "      <td>0.0481</td>\n",
       "      <td>0.0394</td>\n",
       "      <td>0.0590</td>\n",
       "      <td>0.0649</td>\n",
       "      <td>0.1209</td>\n",
       "      <td>0.2467</td>\n",
       "      <td>0.3564</td>\n",
       "      <td>0.4459</td>\n",
       "      <td>...</td>\n",
       "      <td>0.0156</td>\n",
       "      <td>0.0031</td>\n",
       "      <td>0.0054</td>\n",
       "      <td>0.0105</td>\n",
       "      <td>0.0110</td>\n",
       "      <td>0.0015</td>\n",
       "      <td>0.0072</td>\n",
       "      <td>0.0048</td>\n",
       "      <td>0.0107</td>\n",
       "      <td>0.0094</td>\n",
       "    </tr>\n",
       "  </tbody>\n",
       "</table>\n",
       "<p>5 rows × 60 columns</p>\n",
       "</div>"
      ],
      "text/plain": [
       "       0       1       2       3       4       5       6       7       8   \\\n",
       "0  0.0200  0.0371  0.0428  0.0207  0.0954  0.0986  0.1539  0.1601  0.3109   \n",
       "1  0.0453  0.0523  0.0843  0.0689  0.1183  0.2583  0.2156  0.3481  0.3337   \n",
       "2  0.0262  0.0582  0.1099  0.1083  0.0974  0.2280  0.2431  0.3771  0.5598   \n",
       "3  0.0100  0.0171  0.0623  0.0205  0.0205  0.0368  0.1098  0.1276  0.0598   \n",
       "4  0.0762  0.0666  0.0481  0.0394  0.0590  0.0649  0.1209  0.2467  0.3564   \n",
       "\n",
       "       9   ...      50      51      52      53      54      55      56  \\\n",
       "0  0.2111  ...  0.0232  0.0027  0.0065  0.0159  0.0072  0.0167  0.0180   \n",
       "1  0.2872  ...  0.0125  0.0084  0.0089  0.0048  0.0094  0.0191  0.0140   \n",
       "2  0.6194  ...  0.0033  0.0232  0.0166  0.0095  0.0180  0.0244  0.0316   \n",
       "3  0.1264  ...  0.0241  0.0121  0.0036  0.0150  0.0085  0.0073  0.0050   \n",
       "4  0.4459  ...  0.0156  0.0031  0.0054  0.0105  0.0110  0.0015  0.0072   \n",
       "\n",
       "       57      58      59  \n",
       "0  0.0084  0.0090  0.0032  \n",
       "1  0.0049  0.0052  0.0044  \n",
       "2  0.0164  0.0095  0.0078  \n",
       "3  0.0044  0.0040  0.0117  \n",
       "4  0.0048  0.0107  0.0094  \n",
       "\n",
       "[5 rows x 60 columns]"
      ]
     },
     "execution_count": 30,
     "metadata": {},
     "output_type": "execute_result"
    }
   ],
   "source": [
    "X.head()"
   ]
  },
  {
   "cell_type": "code",
   "execution_count": 27,
   "id": "fab5556b",
   "metadata": {},
   "outputs": [],
   "source": [
    "y=df[60]"
   ]
  },
  {
   "cell_type": "code",
   "execution_count": 29,
   "id": "cc5e23e5",
   "metadata": {},
   "outputs": [
    {
     "data": {
      "text/plain": [
       "0    R\n",
       "1    R\n",
       "2    R\n",
       "3    R\n",
       "4    R\n",
       "Name: 60, dtype: object"
      ]
     },
     "execution_count": 29,
     "metadata": {},
     "output_type": "execute_result"
    }
   ],
   "source": [
    "y.head()"
   ]
  },
  {
   "cell_type": "code",
   "execution_count": 40,
   "id": "651e4381",
   "metadata": {},
   "outputs": [],
   "source": [
    "y=pd.get_dummies(y,drop_first=True)"
   ]
  },
  {
   "cell_type": "code",
   "execution_count": 42,
   "id": "23d37453",
   "metadata": {},
   "outputs": [
    {
     "data": {
      "text/html": [
       "<div>\n",
       "<style scoped>\n",
       "    .dataframe tbody tr th:only-of-type {\n",
       "        vertical-align: middle;\n",
       "    }\n",
       "\n",
       "    .dataframe tbody tr th {\n",
       "        vertical-align: top;\n",
       "    }\n",
       "\n",
       "    .dataframe thead th {\n",
       "        text-align: right;\n",
       "    }\n",
       "</style>\n",
       "<table border=\"1\" class=\"dataframe\">\n",
       "  <thead>\n",
       "    <tr style=\"text-align: right;\">\n",
       "      <th></th>\n",
       "      <th>R</th>\n",
       "    </tr>\n",
       "  </thead>\n",
       "  <tbody>\n",
       "    <tr>\n",
       "      <th>0</th>\n",
       "      <td>1</td>\n",
       "    </tr>\n",
       "    <tr>\n",
       "      <th>1</th>\n",
       "      <td>1</td>\n",
       "    </tr>\n",
       "    <tr>\n",
       "      <th>2</th>\n",
       "      <td>1</td>\n",
       "    </tr>\n",
       "    <tr>\n",
       "      <th>3</th>\n",
       "      <td>1</td>\n",
       "    </tr>\n",
       "    <tr>\n",
       "      <th>4</th>\n",
       "      <td>1</td>\n",
       "    </tr>\n",
       "  </tbody>\n",
       "</table>\n",
       "</div>"
      ],
      "text/plain": [
       "   R\n",
       "0  1\n",
       "1  1\n",
       "2  1\n",
       "3  1\n",
       "4  1"
      ]
     },
     "execution_count": 42,
     "metadata": {},
     "output_type": "execute_result"
    }
   ],
   "source": [
    "y.head()"
   ]
  },
  {
   "cell_type": "code",
   "execution_count": 44,
   "id": "a49519c6",
   "metadata": {},
   "outputs": [
    {
     "data": {
      "text/plain": [
       "R\n",
       "0    111\n",
       "1     97\n",
       "dtype: int64"
      ]
     },
     "execution_count": 44,
     "metadata": {},
     "output_type": "execute_result"
    }
   ],
   "source": [
    "y.value_counts()"
   ]
  },
  {
   "cell_type": "code",
   "execution_count": 47,
   "id": "c5dd14ed",
   "metadata": {},
   "outputs": [],
   "source": [
    "from sklearn.model_selection import train_test_split"
   ]
  },
  {
   "cell_type": "code",
   "execution_count": 48,
   "id": "3dec9311",
   "metadata": {},
   "outputs": [],
   "source": [
    "X_train,X_test,y_train,y_test=train_test_split(X,y,test_size=0.2)"
   ]
  },
  {
   "cell_type": "code",
   "execution_count": 49,
   "id": "d2d7d996",
   "metadata": {},
   "outputs": [
    {
     "data": {
      "text/plain": [
       "(166, 60)"
      ]
     },
     "execution_count": 49,
     "metadata": {},
     "output_type": "execute_result"
    }
   ],
   "source": [
    "X_train.shape"
   ]
  },
  {
   "cell_type": "code",
   "execution_count": 50,
   "id": "fe5d4e51",
   "metadata": {},
   "outputs": [
    {
     "data": {
      "text/plain": [
       "(166, 1)"
      ]
     },
     "execution_count": 50,
     "metadata": {},
     "output_type": "execute_result"
    }
   ],
   "source": [
    "y_train.shape"
   ]
  },
  {
   "cell_type": "code",
   "execution_count": 51,
   "id": "25db60d4",
   "metadata": {},
   "outputs": [
    {
     "data": {
      "text/plain": [
       "(42, 60)"
      ]
     },
     "execution_count": 51,
     "metadata": {},
     "output_type": "execute_result"
    }
   ],
   "source": [
    "X_test.shape"
   ]
  },
  {
   "cell_type": "code",
   "execution_count": 52,
   "id": "ef60f7e1",
   "metadata": {},
   "outputs": [
    {
     "data": {
      "text/plain": [
       "(42, 1)"
      ]
     },
     "execution_count": 52,
     "metadata": {},
     "output_type": "execute_result"
    }
   ],
   "source": [
    "y_test.shape"
   ]
  },
  {
   "cell_type": "code",
   "execution_count": 53,
   "id": "f266e53e",
   "metadata": {},
   "outputs": [],
   "source": [
    "import tensorflow as tf\n",
    "from tensorflow import keras"
   ]
  },
  {
   "cell_type": "markdown",
   "id": "94b7fc0a",
   "metadata": {},
   "source": [
    "# Model building without Dropout layers"
   ]
  },
  {
   "cell_type": "code",
   "execution_count": 57,
   "id": "5f2c20ca",
   "metadata": {},
   "outputs": [
    {
     "name": "stdout",
     "output_type": "stream",
     "text": [
      "Epoch 1/100\n",
      "21/21 [==============================] - 1s 3ms/step - loss: 0.6790 - accuracy: 0.6024\n",
      "Epoch 2/100\n",
      "21/21 [==============================] - 0s 3ms/step - loss: 0.6601 - accuracy: 0.5964\n",
      "Epoch 3/100\n",
      "21/21 [==============================] - 0s 3ms/step - loss: 0.6400 - accuracy: 0.6265\n",
      "Epoch 4/100\n",
      "21/21 [==============================] - 0s 3ms/step - loss: 0.6192 - accuracy: 0.6566\n",
      "Epoch 5/100\n",
      "21/21 [==============================] - 0s 3ms/step - loss: 0.5858 - accuracy: 0.7229\n",
      "Epoch 6/100\n",
      "21/21 [==============================] - 0s 3ms/step - loss: 0.5543 - accuracy: 0.7289\n",
      "Epoch 7/100\n",
      "21/21 [==============================] - 0s 3ms/step - loss: 0.5421 - accuracy: 0.7289\n",
      "Epoch 8/100\n",
      "21/21 [==============================] - 0s 3ms/step - loss: 0.5002 - accuracy: 0.7952\n",
      "Epoch 9/100\n",
      "21/21 [==============================] - 0s 3ms/step - loss: 0.4602 - accuracy: 0.8434\n",
      "Epoch 10/100\n",
      "21/21 [==============================] - 0s 3ms/step - loss: 0.4386 - accuracy: 0.8313\n",
      "Epoch 11/100\n",
      "21/21 [==============================] - 0s 4ms/step - loss: 0.4041 - accuracy: 0.8373\n",
      "Epoch 12/100\n",
      "21/21 [==============================] - 0s 4ms/step - loss: 0.4135 - accuracy: 0.8253\n",
      "Epoch 13/100\n",
      "21/21 [==============================] - 0s 6ms/step - loss: 0.3868 - accuracy: 0.8193\n",
      "Epoch 14/100\n",
      "21/21 [==============================] - 0s 4ms/step - loss: 0.3701 - accuracy: 0.8434\n",
      "Epoch 15/100\n",
      "21/21 [==============================] - 0s 3ms/step - loss: 0.3823 - accuracy: 0.8193\n",
      "Epoch 16/100\n",
      "21/21 [==============================] - 0s 4ms/step - loss: 0.3731 - accuracy: 0.8373\n",
      "Epoch 17/100\n",
      "21/21 [==============================] - 0s 5ms/step - loss: 0.3300 - accuracy: 0.8916\n",
      "Epoch 18/100\n",
      "21/21 [==============================] - 0s 6ms/step - loss: 0.3182 - accuracy: 0.8554\n",
      "Epoch 19/100\n",
      "21/21 [==============================] - 0s 4ms/step - loss: 0.3183 - accuracy: 0.8916\n",
      "Epoch 20/100\n",
      "21/21 [==============================] - 0s 4ms/step - loss: 0.2971 - accuracy: 0.8976\n",
      "Epoch 21/100\n",
      "21/21 [==============================] - 0s 5ms/step - loss: 0.2835 - accuracy: 0.8976\n",
      "Epoch 22/100\n",
      "21/21 [==============================] - 0s 5ms/step - loss: 0.2770 - accuracy: 0.9157\n",
      "Epoch 23/100\n",
      "21/21 [==============================] - 0s 5ms/step - loss: 0.2660 - accuracy: 0.9036\n",
      "Epoch 24/100\n",
      "21/21 [==============================] - 0s 4ms/step - loss: 0.2741 - accuracy: 0.8614\n",
      "Epoch 25/100\n",
      "21/21 [==============================] - 0s 4ms/step - loss: 0.2632 - accuracy: 0.8976\n",
      "Epoch 26/100\n",
      "21/21 [==============================] - 0s 3ms/step - loss: 0.2742 - accuracy: 0.8855\n",
      "Epoch 27/100\n",
      "21/21 [==============================] - 0s 4ms/step - loss: 0.2336 - accuracy: 0.9157\n",
      "Epoch 28/100\n",
      "21/21 [==============================] - 0s 3ms/step - loss: 0.2257 - accuracy: 0.9157\n",
      "Epoch 29/100\n",
      "21/21 [==============================] - 0s 4ms/step - loss: 0.2254 - accuracy: 0.9036\n",
      "Epoch 30/100\n",
      "21/21 [==============================] - 0s 4ms/step - loss: 0.2042 - accuracy: 0.9337\n",
      "Epoch 31/100\n",
      "21/21 [==============================] - 0s 4ms/step - loss: 0.1891 - accuracy: 0.9277\n",
      "Epoch 32/100\n",
      "21/21 [==============================] - 0s 3ms/step - loss: 0.1916 - accuracy: 0.9337\n",
      "Epoch 33/100\n",
      "21/21 [==============================] - 0s 6ms/step - loss: 0.1789 - accuracy: 0.9337\n",
      "Epoch 34/100\n",
      "21/21 [==============================] - 0s 5ms/step - loss: 0.1703 - accuracy: 0.9277\n",
      "Epoch 35/100\n",
      "21/21 [==============================] - 0s 6ms/step - loss: 0.1600 - accuracy: 0.9458\n",
      "Epoch 36/100\n",
      "21/21 [==============================] - 0s 5ms/step - loss: 0.1646 - accuracy: 0.9398\n",
      "Epoch 37/100\n",
      "21/21 [==============================] - 0s 4ms/step - loss: 0.1563 - accuracy: 0.9398\n",
      "Epoch 38/100\n",
      "21/21 [==============================] - 0s 4ms/step - loss: 0.1592 - accuracy: 0.9277\n",
      "Epoch 39/100\n",
      "21/21 [==============================] - 0s 4ms/step - loss: 0.1328 - accuracy: 0.9578\n",
      "Epoch 40/100\n",
      "21/21 [==============================] - 0s 4ms/step - loss: 0.1568 - accuracy: 0.9398\n",
      "Epoch 41/100\n",
      "21/21 [==============================] - 0s 3ms/step - loss: 0.1347 - accuracy: 0.9518\n",
      "Epoch 42/100\n",
      "21/21 [==============================] - 0s 4ms/step - loss: 0.1128 - accuracy: 0.9759\n",
      "Epoch 43/100\n",
      "21/21 [==============================] - 0s 3ms/step - loss: 0.1129 - accuracy: 0.9699\n",
      "Epoch 44/100\n",
      "21/21 [==============================] - 0s 4ms/step - loss: 0.1250 - accuracy: 0.9578\n",
      "Epoch 45/100\n",
      "21/21 [==============================] - 0s 3ms/step - loss: 0.1177 - accuracy: 0.9578\n",
      "Epoch 46/100\n",
      "21/21 [==============================] - 0s 4ms/step - loss: 0.1022 - accuracy: 0.9880\n",
      "Epoch 47/100\n",
      "21/21 [==============================] - 0s 6ms/step - loss: 0.0842 - accuracy: 0.9819\n",
      "Epoch 48/100\n",
      "21/21 [==============================] - 0s 4ms/step - loss: 0.0951 - accuracy: 0.9819\n",
      "Epoch 49/100\n",
      "21/21 [==============================] - 0s 4ms/step - loss: 0.0830 - accuracy: 0.9880\n",
      "Epoch 50/100\n",
      "21/21 [==============================] - 0s 4ms/step - loss: 0.0763 - accuracy: 0.9880\n",
      "Epoch 51/100\n",
      "21/21 [==============================] - 0s 4ms/step - loss: 0.0560 - accuracy: 1.0000\n",
      "Epoch 52/100\n",
      "21/21 [==============================] - 0s 4ms/step - loss: 0.0561 - accuracy: 0.9940\n",
      "Epoch 53/100\n",
      "21/21 [==============================] - 0s 4ms/step - loss: 0.0589 - accuracy: 0.9940\n",
      "Epoch 54/100\n",
      "21/21 [==============================] - 0s 3ms/step - loss: 0.0464 - accuracy: 1.0000\n",
      "Epoch 55/100\n",
      "21/21 [==============================] - 0s 5ms/step - loss: 0.0722 - accuracy: 0.9880\n",
      "Epoch 56/100\n",
      "21/21 [==============================] - 0s 5ms/step - loss: 0.0513 - accuracy: 1.0000\n",
      "Epoch 57/100\n",
      "21/21 [==============================] - 0s 5ms/step - loss: 0.0449 - accuracy: 1.0000\n",
      "Epoch 58/100\n",
      "21/21 [==============================] - 0s 7ms/step - loss: 0.0414 - accuracy: 1.0000\n",
      "Epoch 59/100\n",
      "21/21 [==============================] - 0s 5ms/step - loss: 0.0350 - accuracy: 1.0000\n",
      "Epoch 60/100\n",
      "21/21 [==============================] - 0s 4ms/step - loss: 0.0318 - accuracy: 1.0000\n",
      "Epoch 61/100\n",
      "21/21 [==============================] - 0s 5ms/step - loss: 0.0299 - accuracy: 1.0000\n",
      "Epoch 62/100\n",
      "21/21 [==============================] - 0s 6ms/step - loss: 0.0280 - accuracy: 1.0000\n",
      "Epoch 63/100\n",
      "21/21 [==============================] - 0s 4ms/step - loss: 0.0256 - accuracy: 1.0000\n",
      "Epoch 64/100\n",
      "21/21 [==============================] - 0s 5ms/step - loss: 0.0225 - accuracy: 1.0000\n",
      "Epoch 65/100\n",
      "21/21 [==============================] - 0s 5ms/step - loss: 0.0206 - accuracy: 1.0000\n",
      "Epoch 66/100\n",
      "21/21 [==============================] - 0s 5ms/step - loss: 0.0191 - accuracy: 1.0000\n",
      "Epoch 67/100\n",
      "21/21 [==============================] - 0s 5ms/step - loss: 0.0192 - accuracy: 1.0000\n",
      "Epoch 68/100\n",
      "21/21 [==============================] - 0s 5ms/step - loss: 0.0159 - accuracy: 1.0000\n",
      "Epoch 69/100\n",
      "21/21 [==============================] - 0s 5ms/step - loss: 0.0167 - accuracy: 1.0000\n",
      "Epoch 70/100\n",
      "21/21 [==============================] - 0s 5ms/step - loss: 0.0138 - accuracy: 1.0000\n",
      "Epoch 71/100\n",
      "21/21 [==============================] - 0s 5ms/step - loss: 0.0134 - accuracy: 1.0000\n",
      "Epoch 72/100\n",
      "21/21 [==============================] - 0s 4ms/step - loss: 0.0136 - accuracy: 1.0000\n",
      "Epoch 73/100\n",
      "21/21 [==============================] - 0s 4ms/step - loss: 0.0150 - accuracy: 1.0000\n",
      "Epoch 74/100\n",
      "21/21 [==============================] - 0s 4ms/step - loss: 0.0124 - accuracy: 1.0000\n",
      "Epoch 75/100\n",
      "21/21 [==============================] - 0s 5ms/step - loss: 0.0105 - accuracy: 1.0000\n",
      "Epoch 76/100\n",
      "21/21 [==============================] - 0s 5ms/step - loss: 0.0089 - accuracy: 1.0000\n",
      "Epoch 77/100\n",
      "21/21 [==============================] - 0s 5ms/step - loss: 0.0077 - accuracy: 1.0000\n",
      "Epoch 78/100\n",
      "21/21 [==============================] - 0s 5ms/step - loss: 0.0104 - accuracy: 1.0000\n",
      "Epoch 79/100\n",
      "21/21 [==============================] - 0s 5ms/step - loss: 0.0158 - accuracy: 1.0000\n",
      "Epoch 80/100\n",
      "21/21 [==============================] - 0s 4ms/step - loss: 0.0155 - accuracy: 1.0000\n",
      "Epoch 81/100\n",
      "21/21 [==============================] - 0s 5ms/step - loss: 0.0091 - accuracy: 1.0000\n",
      "Epoch 82/100\n",
      "21/21 [==============================] - 0s 3ms/step - loss: 0.0066 - accuracy: 1.0000\n",
      "Epoch 83/100\n",
      "21/21 [==============================] - 0s 4ms/step - loss: 0.0059 - accuracy: 1.0000\n",
      "Epoch 84/100\n",
      "21/21 [==============================] - 0s 3ms/step - loss: 0.0054 - accuracy: 1.0000\n",
      "Epoch 85/100\n",
      "21/21 [==============================] - 0s 3ms/step - loss: 0.0046 - accuracy: 1.0000\n",
      "Epoch 86/100\n",
      "21/21 [==============================] - 0s 3ms/step - loss: 0.0045 - accuracy: 1.0000\n",
      "Epoch 87/100\n",
      "21/21 [==============================] - 0s 4ms/step - loss: 0.0042 - accuracy: 1.0000\n",
      "Epoch 88/100\n",
      "21/21 [==============================] - 0s 4ms/step - loss: 0.0043 - accuracy: 1.0000\n",
      "Epoch 89/100\n",
      "21/21 [==============================] - 0s 4ms/step - loss: 0.0038 - accuracy: 1.0000\n",
      "Epoch 90/100\n",
      "21/21 [==============================] - 0s 4ms/step - loss: 0.0038 - accuracy: 1.0000\n",
      "Epoch 91/100\n",
      "21/21 [==============================] - 0s 5ms/step - loss: 0.0033 - accuracy: 1.0000\n",
      "Epoch 92/100\n",
      "21/21 [==============================] - 0s 4ms/step - loss: 0.0036 - accuracy: 1.0000\n",
      "Epoch 93/100\n",
      "21/21 [==============================] - 0s 4ms/step - loss: 0.0032 - accuracy: 1.0000\n",
      "Epoch 94/100\n",
      "21/21 [==============================] - 0s 4ms/step - loss: 0.0030 - accuracy: 1.0000\n",
      "Epoch 95/100\n",
      "21/21 [==============================] - 0s 4ms/step - loss: 0.0029 - accuracy: 1.0000\n",
      "Epoch 96/100\n",
      "21/21 [==============================] - 0s 4ms/step - loss: 0.0030 - accuracy: 1.0000\n",
      "Epoch 97/100\n",
      "21/21 [==============================] - 0s 4ms/step - loss: 0.0027 - accuracy: 1.0000\n",
      "Epoch 98/100\n",
      "21/21 [==============================] - 1s 37ms/step - loss: 0.0029 - accuracy: 1.0000\n",
      "Epoch 99/100\n",
      "21/21 [==============================] - 0s 5ms/step - loss: 0.0025 - accuracy: 1.0000\n",
      "Epoch 100/100\n",
      "21/21 [==============================] - 0s 5ms/step - loss: 0.0024 - accuracy: 1.0000\n"
     ]
    },
    {
     "data": {
      "text/plain": [
       "<keras.callbacks.History at 0x7ff69f2806d0>"
      ]
     },
     "execution_count": 57,
     "metadata": {},
     "output_type": "execute_result"
    }
   ],
   "source": [
    "model=keras.Sequential([\n",
    "    keras.layers.Dense(60,input_shape=(60,),activation='relu'),\n",
    "    keras.layers.Dense(30,activation='relu'),\n",
    "    keras.layers.Dense(15,activation='relu'),\n",
    "    keras.layers.Dense(1,activation='sigmoid')\n",
    "])\n",
    "model.compile(\n",
    "    optimizer='adam',\n",
    "    loss='binary_crossentropy',\n",
    "    metrics=['accuracy']\n",
    ")\n",
    "model.fit(X_train,y_train,epochs=100,batch_size=8)"
   ]
  },
  {
   "cell_type": "markdown",
   "id": "68323b05",
   "metadata": {},
   "source": [
    "# Model Evaluation On Test Data Without Dropout Layers"
   ]
  },
  {
   "cell_type": "code",
   "execution_count": 58,
   "id": "862bd14c",
   "metadata": {},
   "outputs": [
    {
     "name": "stdout",
     "output_type": "stream",
     "text": [
      "2/2 [==============================] - 0s 4ms/step - loss: 0.6562 - accuracy: 0.8333\n"
     ]
    },
    {
     "data": {
      "text/plain": [
       "[0.6562359929084778, 0.8333333134651184]"
      ]
     },
     "execution_count": 58,
     "metadata": {},
     "output_type": "execute_result"
    }
   ],
   "source": [
    "model.evaluate(X_test,y_test)"
   ]
  },
  {
   "cell_type": "code",
   "execution_count": 60,
   "id": "6a05a66f",
   "metadata": {},
   "outputs": [
    {
     "name": "stdout",
     "output_type": "stream",
     "text": [
      "2/2 [==============================] - 0s 3ms/step\n"
     ]
    }
   ],
   "source": [
    "y_pred=model.predict(X_test)"
   ]
  },
  {
   "cell_type": "code",
   "execution_count": 63,
   "id": "e384cd1d",
   "metadata": {},
   "outputs": [],
   "source": [
    "y_pred=np.round(y_pred)"
   ]
  },
  {
   "cell_type": "code",
   "execution_count": 64,
   "id": "3ba97ae9",
   "metadata": {},
   "outputs": [
    {
     "data": {
      "text/plain": [
       "array([[1.],\n",
       "       [1.],\n",
       "       [1.],\n",
       "       [1.],\n",
       "       [1.],\n",
       "       [0.],\n",
       "       [0.],\n",
       "       [0.],\n",
       "       [1.],\n",
       "       [0.]], dtype=float32)"
      ]
     },
     "execution_count": 64,
     "metadata": {},
     "output_type": "execute_result"
    }
   ],
   "source": [
    "y_pred[0:10]"
   ]
  },
  {
   "cell_type": "code",
   "execution_count": 65,
   "id": "a850d347",
   "metadata": {},
   "outputs": [
    {
     "data": {
      "text/html": [
       "<div>\n",
       "<style scoped>\n",
       "    .dataframe tbody tr th:only-of-type {\n",
       "        vertical-align: middle;\n",
       "    }\n",
       "\n",
       "    .dataframe tbody tr th {\n",
       "        vertical-align: top;\n",
       "    }\n",
       "\n",
       "    .dataframe thead th {\n",
       "        text-align: right;\n",
       "    }\n",
       "</style>\n",
       "<table border=\"1\" class=\"dataframe\">\n",
       "  <thead>\n",
       "    <tr style=\"text-align: right;\">\n",
       "      <th></th>\n",
       "      <th>R</th>\n",
       "    </tr>\n",
       "  </thead>\n",
       "  <tbody>\n",
       "    <tr>\n",
       "      <th>78</th>\n",
       "      <td>1</td>\n",
       "    </tr>\n",
       "    <tr>\n",
       "      <th>6</th>\n",
       "      <td>1</td>\n",
       "    </tr>\n",
       "    <tr>\n",
       "      <th>60</th>\n",
       "      <td>1</td>\n",
       "    </tr>\n",
       "    <tr>\n",
       "      <th>27</th>\n",
       "      <td>1</td>\n",
       "    </tr>\n",
       "    <tr>\n",
       "      <th>89</th>\n",
       "      <td>1</td>\n",
       "    </tr>\n",
       "    <tr>\n",
       "      <th>190</th>\n",
       "      <td>0</td>\n",
       "    </tr>\n",
       "    <tr>\n",
       "      <th>127</th>\n",
       "      <td>0</td>\n",
       "    </tr>\n",
       "    <tr>\n",
       "      <th>4</th>\n",
       "      <td>1</td>\n",
       "    </tr>\n",
       "    <tr>\n",
       "      <th>44</th>\n",
       "      <td>1</td>\n",
       "    </tr>\n",
       "    <tr>\n",
       "      <th>0</th>\n",
       "      <td>1</td>\n",
       "    </tr>\n",
       "  </tbody>\n",
       "</table>\n",
       "</div>"
      ],
      "text/plain": [
       "     R\n",
       "78   1\n",
       "6    1\n",
       "60   1\n",
       "27   1\n",
       "89   1\n",
       "190  0\n",
       "127  0\n",
       "4    1\n",
       "44   1\n",
       "0    1"
      ]
     },
     "execution_count": 65,
     "metadata": {},
     "output_type": "execute_result"
    }
   ],
   "source": [
    "y_test[0:10]"
   ]
  },
  {
   "cell_type": "markdown",
   "id": "bf0d9173",
   "metadata": {},
   "source": [
    "# Classification report without Dropout Layers"
   ]
  },
  {
   "cell_type": "code",
   "execution_count": 66,
   "id": "f76d7455",
   "metadata": {},
   "outputs": [],
   "source": [
    "from sklearn.metrics import classification_report"
   ]
  },
  {
   "cell_type": "code",
   "execution_count": 68,
   "id": "3a34248a",
   "metadata": {},
   "outputs": [
    {
     "name": "stdout",
     "output_type": "stream",
     "text": [
      "              precision    recall  f1-score   support\n",
      "\n",
      "           0       0.75      0.88      0.81        17\n",
      "           1       0.91      0.80      0.85        25\n",
      "\n",
      "    accuracy                           0.83        42\n",
      "   macro avg       0.83      0.84      0.83        42\n",
      "weighted avg       0.84      0.83      0.83        42\n",
      "\n"
     ]
    }
   ],
   "source": [
    "print(classification_report(y_test,y_pred))"
   ]
  },
  {
   "cell_type": "markdown",
   "id": "5a4e2c0c",
   "metadata": {},
   "source": [
    "# Model With Dropout Layers"
   ]
  },
  {
   "cell_type": "code",
   "execution_count": 70,
   "id": "f3cccafa",
   "metadata": {},
   "outputs": [
    {
     "name": "stdout",
     "output_type": "stream",
     "text": [
      "Epoch 1/100\n",
      "21/21 [==============================] - 1s 3ms/step - loss: 0.7034 - accuracy: 0.5120\n",
      "Epoch 2/100\n",
      "21/21 [==============================] - 0s 3ms/step - loss: 0.7167 - accuracy: 0.4759\n",
      "Epoch 3/100\n",
      "21/21 [==============================] - 0s 3ms/step - loss: 0.6709 - accuracy: 0.5964\n",
      "Epoch 4/100\n",
      "21/21 [==============================] - 0s 4ms/step - loss: 0.6969 - accuracy: 0.5181\n",
      "Epoch 5/100\n",
      "21/21 [==============================] - 0s 3ms/step - loss: 0.6677 - accuracy: 0.5964\n",
      "Epoch 6/100\n",
      "21/21 [==============================] - 0s 3ms/step - loss: 0.6853 - accuracy: 0.5663\n",
      "Epoch 7/100\n",
      "21/21 [==============================] - 0s 3ms/step - loss: 0.6699 - accuracy: 0.5542\n",
      "Epoch 8/100\n",
      "21/21 [==============================] - 0s 3ms/step - loss: 0.6812 - accuracy: 0.6084\n",
      "Epoch 9/100\n",
      "21/21 [==============================] - 0s 3ms/step - loss: 0.6729 - accuracy: 0.5904\n",
      "Epoch 10/100\n",
      "21/21 [==============================] - 0s 5ms/step - loss: 0.6701 - accuracy: 0.5964\n",
      "Epoch 11/100\n",
      "21/21 [==============================] - 0s 3ms/step - loss: 0.6593 - accuracy: 0.6024\n",
      "Epoch 12/100\n",
      "21/21 [==============================] - 0s 3ms/step - loss: 0.6760 - accuracy: 0.5663\n",
      "Epoch 13/100\n",
      "21/21 [==============================] - 0s 5ms/step - loss: 0.6684 - accuracy: 0.5663\n",
      "Epoch 14/100\n",
      "21/21 [==============================] - 0s 7ms/step - loss: 0.6566 - accuracy: 0.6024\n",
      "Epoch 15/100\n",
      "21/21 [==============================] - 0s 5ms/step - loss: 0.6530 - accuracy: 0.6024\n",
      "Epoch 16/100\n",
      "21/21 [==============================] - 0s 6ms/step - loss: 0.6283 - accuracy: 0.6506\n",
      "Epoch 17/100\n",
      "21/21 [==============================] - 0s 5ms/step - loss: 0.6271 - accuracy: 0.6627\n",
      "Epoch 18/100\n",
      "21/21 [==============================] - 0s 4ms/step - loss: 0.6168 - accuracy: 0.6386\n",
      "Epoch 19/100\n",
      "21/21 [==============================] - 0s 5ms/step - loss: 0.6153 - accuracy: 0.6627\n",
      "Epoch 20/100\n",
      "21/21 [==============================] - 0s 5ms/step - loss: 0.6381 - accuracy: 0.6867\n",
      "Epoch 21/100\n",
      "21/21 [==============================] - 0s 6ms/step - loss: 0.6251 - accuracy: 0.6566\n",
      "Epoch 22/100\n",
      "21/21 [==============================] - 0s 4ms/step - loss: 0.6017 - accuracy: 0.6627\n",
      "Epoch 23/100\n",
      "21/21 [==============================] - 0s 3ms/step - loss: 0.5913 - accuracy: 0.7169\n",
      "Epoch 24/100\n",
      "21/21 [==============================] - 0s 4ms/step - loss: 0.5813 - accuracy: 0.6988\n",
      "Epoch 25/100\n",
      "21/21 [==============================] - 0s 4ms/step - loss: 0.5586 - accuracy: 0.7530\n",
      "Epoch 26/100\n",
      "21/21 [==============================] - 0s 4ms/step - loss: 0.5217 - accuracy: 0.7289\n",
      "Epoch 27/100\n",
      "21/21 [==============================] - 0s 4ms/step - loss: 0.5421 - accuracy: 0.7410\n",
      "Epoch 28/100\n",
      "21/21 [==============================] - 0s 4ms/step - loss: 0.5637 - accuracy: 0.7410\n",
      "Epoch 29/100\n",
      "21/21 [==============================] - 0s 4ms/step - loss: 0.5508 - accuracy: 0.7169\n",
      "Epoch 30/100\n",
      "21/21 [==============================] - 0s 3ms/step - loss: 0.5443 - accuracy: 0.7470\n",
      "Epoch 31/100\n",
      "21/21 [==============================] - 0s 3ms/step - loss: 0.5255 - accuracy: 0.7590\n",
      "Epoch 32/100\n",
      "21/21 [==============================] - 0s 5ms/step - loss: 0.4981 - accuracy: 0.7771\n",
      "Epoch 33/100\n",
      "21/21 [==============================] - 0s 7ms/step - loss: 0.5039 - accuracy: 0.7831\n",
      "Epoch 34/100\n",
      "21/21 [==============================] - 0s 4ms/step - loss: 0.5154 - accuracy: 0.7711\n",
      "Epoch 35/100\n",
      "21/21 [==============================] - 0s 3ms/step - loss: 0.5182 - accuracy: 0.7711\n",
      "Epoch 36/100\n",
      "21/21 [==============================] - 0s 5ms/step - loss: 0.4635 - accuracy: 0.7892\n",
      "Epoch 37/100\n",
      "21/21 [==============================] - 0s 6ms/step - loss: 0.4479 - accuracy: 0.8133\n",
      "Epoch 38/100\n",
      "21/21 [==============================] - 0s 3ms/step - loss: 0.4812 - accuracy: 0.7590\n",
      "Epoch 39/100\n",
      "21/21 [==============================] - 0s 4ms/step - loss: 0.4705 - accuracy: 0.8133\n",
      "Epoch 40/100\n",
      "21/21 [==============================] - 0s 5ms/step - loss: 0.4360 - accuracy: 0.8193\n",
      "Epoch 41/100\n",
      "21/21 [==============================] - 0s 3ms/step - loss: 0.4087 - accuracy: 0.8494\n",
      "Epoch 42/100\n",
      "21/21 [==============================] - 0s 4ms/step - loss: 0.4426 - accuracy: 0.8012\n",
      "Epoch 43/100\n",
      "21/21 [==============================] - 0s 4ms/step - loss: 0.4338 - accuracy: 0.8072\n",
      "Epoch 44/100\n",
      "21/21 [==============================] - 0s 4ms/step - loss: 0.4332 - accuracy: 0.8253\n",
      "Epoch 45/100\n",
      "21/21 [==============================] - 0s 3ms/step - loss: 0.4121 - accuracy: 0.8133\n",
      "Epoch 46/100\n",
      "21/21 [==============================] - 0s 4ms/step - loss: 0.4281 - accuracy: 0.8012\n",
      "Epoch 47/100\n",
      "21/21 [==============================] - 0s 4ms/step - loss: 0.4214 - accuracy: 0.8012\n",
      "Epoch 48/100\n",
      "21/21 [==============================] - 0s 4ms/step - loss: 0.3801 - accuracy: 0.8494\n",
      "Epoch 49/100\n",
      "21/21 [==============================] - 0s 4ms/step - loss: 0.3709 - accuracy: 0.8434\n",
      "Epoch 50/100\n",
      "21/21 [==============================] - 0s 3ms/step - loss: 0.3622 - accuracy: 0.8494\n",
      "Epoch 51/100\n",
      "21/21 [==============================] - 0s 4ms/step - loss: 0.4026 - accuracy: 0.8373\n",
      "Epoch 52/100\n",
      "21/21 [==============================] - 0s 3ms/step - loss: 0.4221 - accuracy: 0.8193\n",
      "Epoch 53/100\n",
      "21/21 [==============================] - 0s 3ms/step - loss: 0.3622 - accuracy: 0.8494\n",
      "Epoch 54/100\n",
      "21/21 [==============================] - 0s 4ms/step - loss: 0.3303 - accuracy: 0.8494\n",
      "Epoch 55/100\n",
      "21/21 [==============================] - 0s 4ms/step - loss: 0.3708 - accuracy: 0.8554\n",
      "Epoch 56/100\n",
      "21/21 [==============================] - 0s 5ms/step - loss: 0.3986 - accuracy: 0.8253\n",
      "Epoch 57/100\n",
      "21/21 [==============================] - 0s 5ms/step - loss: 0.3824 - accuracy: 0.8313\n",
      "Epoch 58/100\n",
      "21/21 [==============================] - 0s 4ms/step - loss: 0.3479 - accuracy: 0.8554\n",
      "Epoch 59/100\n",
      "21/21 [==============================] - 0s 5ms/step - loss: 0.3038 - accuracy: 0.8855\n",
      "Epoch 60/100\n",
      "21/21 [==============================] - 0s 5ms/step - loss: 0.3309 - accuracy: 0.8494\n",
      "Epoch 61/100\n",
      "21/21 [==============================] - 0s 4ms/step - loss: 0.2956 - accuracy: 0.8795\n",
      "Epoch 62/100\n",
      "21/21 [==============================] - 0s 4ms/step - loss: 0.3907 - accuracy: 0.8253\n",
      "Epoch 63/100\n",
      "21/21 [==============================] - 0s 5ms/step - loss: 0.3373 - accuracy: 0.8434\n",
      "Epoch 64/100\n",
      "21/21 [==============================] - 0s 5ms/step - loss: 0.3867 - accuracy: 0.8193\n",
      "Epoch 65/100\n",
      "21/21 [==============================] - 0s 12ms/step - loss: 0.3005 - accuracy: 0.9036\n",
      "Epoch 66/100\n",
      "21/21 [==============================] - 0s 4ms/step - loss: 0.3391 - accuracy: 0.8373\n",
      "Epoch 67/100\n",
      "21/21 [==============================] - 0s 5ms/step - loss: 0.3091 - accuracy: 0.8614\n",
      "Epoch 68/100\n",
      "21/21 [==============================] - 0s 4ms/step - loss: 0.2702 - accuracy: 0.8976\n",
      "Epoch 69/100\n",
      "21/21 [==============================] - 0s 5ms/step - loss: 0.2690 - accuracy: 0.8976\n",
      "Epoch 70/100\n",
      "21/21 [==============================] - 0s 4ms/step - loss: 0.3236 - accuracy: 0.8675\n",
      "Epoch 71/100\n",
      "21/21 [==============================] - 0s 5ms/step - loss: 0.2907 - accuracy: 0.8855\n",
      "Epoch 72/100\n",
      "21/21 [==============================] - 0s 4ms/step - loss: 0.2675 - accuracy: 0.8976\n",
      "Epoch 73/100\n",
      "21/21 [==============================] - 0s 5ms/step - loss: 0.2551 - accuracy: 0.9217\n",
      "Epoch 74/100\n",
      "21/21 [==============================] - 0s 4ms/step - loss: 0.3133 - accuracy: 0.8554\n",
      "Epoch 75/100\n",
      "21/21 [==============================] - 0s 4ms/step - loss: 0.2875 - accuracy: 0.9036\n",
      "Epoch 76/100\n",
      "21/21 [==============================] - 0s 5ms/step - loss: 0.2579 - accuracy: 0.8795\n",
      "Epoch 77/100\n",
      "21/21 [==============================] - 0s 5ms/step - loss: 0.3153 - accuracy: 0.8855\n",
      "Epoch 78/100\n",
      "21/21 [==============================] - 0s 4ms/step - loss: 0.2469 - accuracy: 0.9217\n",
      "Epoch 79/100\n",
      "21/21 [==============================] - 0s 4ms/step - loss: 0.2684 - accuracy: 0.8976\n",
      "Epoch 80/100\n",
      "21/21 [==============================] - 0s 4ms/step - loss: 0.2623 - accuracy: 0.9096\n",
      "Epoch 81/100\n",
      "21/21 [==============================] - 0s 4ms/step - loss: 0.2384 - accuracy: 0.9096\n",
      "Epoch 82/100\n",
      "21/21 [==============================] - 0s 4ms/step - loss: 0.2891 - accuracy: 0.8675\n",
      "Epoch 83/100\n",
      "21/21 [==============================] - 0s 4ms/step - loss: 0.2745 - accuracy: 0.8976\n",
      "Epoch 84/100\n",
      "21/21 [==============================] - 0s 4ms/step - loss: 0.2634 - accuracy: 0.9096\n",
      "Epoch 85/100\n",
      "21/21 [==============================] - 0s 5ms/step - loss: 0.3091 - accuracy: 0.8735\n",
      "Epoch 86/100\n",
      "21/21 [==============================] - 0s 4ms/step - loss: 0.2739 - accuracy: 0.9096\n",
      "Epoch 87/100\n",
      "21/21 [==============================] - 0s 4ms/step - loss: 0.2358 - accuracy: 0.8795\n",
      "Epoch 88/100\n",
      "21/21 [==============================] - 0s 4ms/step - loss: 0.2488 - accuracy: 0.8916\n",
      "Epoch 89/100\n",
      "21/21 [==============================] - 0s 4ms/step - loss: 0.3066 - accuracy: 0.8855\n",
      "Epoch 90/100\n",
      "21/21 [==============================] - 0s 4ms/step - loss: 0.2369 - accuracy: 0.8976\n",
      "Epoch 91/100\n",
      "21/21 [==============================] - 0s 4ms/step - loss: 0.2787 - accuracy: 0.8614\n",
      "Epoch 92/100\n",
      "21/21 [==============================] - 0s 3ms/step - loss: 0.2545 - accuracy: 0.8795\n",
      "Epoch 93/100\n",
      "21/21 [==============================] - 0s 5ms/step - loss: 0.3074 - accuracy: 0.8916\n",
      "Epoch 94/100\n",
      "21/21 [==============================] - 0s 4ms/step - loss: 0.2011 - accuracy: 0.9398\n",
      "Epoch 95/100\n",
      "21/21 [==============================] - 0s 4ms/step - loss: 0.2282 - accuracy: 0.8976\n",
      "Epoch 96/100\n",
      "21/21 [==============================] - 0s 4ms/step - loss: 0.2319 - accuracy: 0.9398\n",
      "Epoch 97/100\n",
      "21/21 [==============================] - 0s 5ms/step - loss: 0.2732 - accuracy: 0.8976\n",
      "Epoch 98/100\n",
      "21/21 [==============================] - 0s 4ms/step - loss: 0.2896 - accuracy: 0.8795\n",
      "Epoch 99/100\n",
      "21/21 [==============================] - 0s 4ms/step - loss: 0.2505 - accuracy: 0.9096\n",
      "Epoch 100/100\n",
      "21/21 [==============================] - 0s 4ms/step - loss: 0.1894 - accuracy: 0.9277\n"
     ]
    },
    {
     "data": {
      "text/plain": [
       "<keras.callbacks.History at 0x7ff6a0863df0>"
      ]
     },
     "execution_count": 70,
     "metadata": {},
     "output_type": "execute_result"
    }
   ],
   "source": [
    "model_D=keras.Sequential([\n",
    "    keras.layers.Dense(60,input_shape=(60,),activation='relu'),\n",
    "    keras.layers.Dropout(0.5),\n",
    "    keras.layers.Dense(30,activation='relu'),\n",
    "    keras.layers.Dropout(0.4),\n",
    "    keras.layers.Dense(15,activation='relu'),\n",
    "    keras.layers.Dropout(0.3),\n",
    "    keras.layers.Dense(1,activation='sigmoid')\n",
    "])\n",
    "model_D.compile(\n",
    "    optimizer='adam',\n",
    "    loss='binary_crossentropy',\n",
    "    metrics=['accuracy']\n",
    ")\n",
    "model_D.fit(X_train,y_train,epochs=100,batch_size=8)"
   ]
  },
  {
   "cell_type": "markdown",
   "id": "16dd24f7",
   "metadata": {},
   "source": [
    "# Model Evaluation On Test Data With Dropout Layers"
   ]
  },
  {
   "cell_type": "code",
   "execution_count": 71,
   "id": "370a901a",
   "metadata": {},
   "outputs": [
    {
     "name": "stdout",
     "output_type": "stream",
     "text": [
      "2/2 [==============================] - 0s 3ms/step - loss: 0.3023 - accuracy: 0.8571\n"
     ]
    },
    {
     "data": {
      "text/plain": [
       "[0.3022882640361786, 0.8571428656578064]"
      ]
     },
     "execution_count": 71,
     "metadata": {},
     "output_type": "execute_result"
    }
   ],
   "source": [
    "model_D.evaluate(X_test,y_test)"
   ]
  },
  {
   "cell_type": "code",
   "execution_count": 73,
   "id": "308f2d4c",
   "metadata": {},
   "outputs": [
    {
     "name": "stdout",
     "output_type": "stream",
     "text": [
      "2/2 [==============================] - 0s 4ms/step\n"
     ]
    }
   ],
   "source": [
    "y_hat=model_D.predict(X_test)"
   ]
  },
  {
   "cell_type": "code",
   "execution_count": 74,
   "id": "42735df6",
   "metadata": {},
   "outputs": [],
   "source": [
    "y_hat=np.round(y_hat)"
   ]
  },
  {
   "cell_type": "code",
   "execution_count": 75,
   "id": "b96dd45e",
   "metadata": {},
   "outputs": [
    {
     "data": {
      "text/plain": [
       "array([[1.],\n",
       "       [1.],\n",
       "       [1.],\n",
       "       [1.],\n",
       "       [1.],\n",
       "       [0.],\n",
       "       [0.],\n",
       "       [1.],\n",
       "       [0.],\n",
       "       [1.]], dtype=float32)"
      ]
     },
     "execution_count": 75,
     "metadata": {},
     "output_type": "execute_result"
    }
   ],
   "source": [
    "y_hat[0:10]"
   ]
  },
  {
   "cell_type": "code",
   "execution_count": 76,
   "id": "a946d573",
   "metadata": {},
   "outputs": [
    {
     "data": {
      "text/html": [
       "<div>\n",
       "<style scoped>\n",
       "    .dataframe tbody tr th:only-of-type {\n",
       "        vertical-align: middle;\n",
       "    }\n",
       "\n",
       "    .dataframe tbody tr th {\n",
       "        vertical-align: top;\n",
       "    }\n",
       "\n",
       "    .dataframe thead th {\n",
       "        text-align: right;\n",
       "    }\n",
       "</style>\n",
       "<table border=\"1\" class=\"dataframe\">\n",
       "  <thead>\n",
       "    <tr style=\"text-align: right;\">\n",
       "      <th></th>\n",
       "      <th>R</th>\n",
       "    </tr>\n",
       "  </thead>\n",
       "  <tbody>\n",
       "    <tr>\n",
       "      <th>78</th>\n",
       "      <td>1</td>\n",
       "    </tr>\n",
       "    <tr>\n",
       "      <th>6</th>\n",
       "      <td>1</td>\n",
       "    </tr>\n",
       "    <tr>\n",
       "      <th>60</th>\n",
       "      <td>1</td>\n",
       "    </tr>\n",
       "    <tr>\n",
       "      <th>27</th>\n",
       "      <td>1</td>\n",
       "    </tr>\n",
       "    <tr>\n",
       "      <th>89</th>\n",
       "      <td>1</td>\n",
       "    </tr>\n",
       "    <tr>\n",
       "      <th>190</th>\n",
       "      <td>0</td>\n",
       "    </tr>\n",
       "    <tr>\n",
       "      <th>127</th>\n",
       "      <td>0</td>\n",
       "    </tr>\n",
       "    <tr>\n",
       "      <th>4</th>\n",
       "      <td>1</td>\n",
       "    </tr>\n",
       "    <tr>\n",
       "      <th>44</th>\n",
       "      <td>1</td>\n",
       "    </tr>\n",
       "    <tr>\n",
       "      <th>0</th>\n",
       "      <td>1</td>\n",
       "    </tr>\n",
       "  </tbody>\n",
       "</table>\n",
       "</div>"
      ],
      "text/plain": [
       "     R\n",
       "78   1\n",
       "6    1\n",
       "60   1\n",
       "27   1\n",
       "89   1\n",
       "190  0\n",
       "127  0\n",
       "4    1\n",
       "44   1\n",
       "0    1"
      ]
     },
     "execution_count": 76,
     "metadata": {},
     "output_type": "execute_result"
    }
   ],
   "source": [
    "y_test[0:10]"
   ]
  },
  {
   "cell_type": "markdown",
   "id": "98e5444d",
   "metadata": {},
   "source": [
    "# Classificaton report with Dropout Layers"
   ]
  },
  {
   "cell_type": "code",
   "execution_count": 77,
   "id": "bd2b4616",
   "metadata": {},
   "outputs": [
    {
     "name": "stdout",
     "output_type": "stream",
     "text": [
      "              precision    recall  f1-score   support\n",
      "\n",
      "         0.0       0.88      0.79      0.83        19\n",
      "         1.0       0.84      0.91      0.87        23\n",
      "\n",
      "    accuracy                           0.86        42\n",
      "   macro avg       0.86      0.85      0.85        42\n",
      "weighted avg       0.86      0.86      0.86        42\n",
      "\n"
     ]
    }
   ],
   "source": [
    "print(classification_report(y_hat,y_test))"
   ]
  },
  {
   "cell_type": "code",
   "execution_count": null,
   "id": "904f69fd",
   "metadata": {},
   "outputs": [],
   "source": []
  }
 ],
 "metadata": {
  "kernelspec": {
   "display_name": "Python 3 (ipykernel)",
   "language": "python",
   "name": "python3"
  },
  "language_info": {
   "codemirror_mode": {
    "name": "ipython",
    "version": 3
   },
   "file_extension": ".py",
   "mimetype": "text/x-python",
   "name": "python",
   "nbconvert_exporter": "python",
   "pygments_lexer": "ipython3",
   "version": "3.9.12"
  }
 },
 "nbformat": 4,
 "nbformat_minor": 5
}
